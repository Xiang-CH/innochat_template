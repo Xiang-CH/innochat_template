{
 "cells": [
  {
   "cell_type": "markdown",
   "metadata": {},
   "source": [
    "# Prepare PDF Documents for RAG \n",
    "\n",
    "*Code adapded from: https://github.com/Azure-Samples/azure-search-openai-demo"
   ]
  },
  {
   "cell_type": "markdown",
   "metadata": {},
   "source": [
    "## Install Dependencies"
   ]
  },
  {
   "cell_type": "code",
   "execution_count": 1,
   "metadata": {},
   "outputs": [
    {
     "name": "stdout",
     "output_type": "stream",
     "text": [
      "Requirement already satisfied: pypdf==3.9.0 in /Users/huangleyang/anaconda3/lib/python3.10/site-packages (from -r requirements.txt (line 1)) (3.9.0)\n",
      "Requirement already satisfied: azure-identity==1.13.0 in /Users/huangleyang/anaconda3/lib/python3.10/site-packages (from -r requirements.txt (line 2)) (1.13.0)\n",
      "Requirement already satisfied: azure-search-documents==11.4.0b6 in /Users/huangleyang/anaconda3/lib/python3.10/site-packages (from -r requirements.txt (line 3)) (11.4.0b6)\n",
      "Requirement already satisfied: openai[datalib]==0.27.8 in /Users/huangleyang/anaconda3/lib/python3.10/site-packages (from -r requirements.txt (line 4)) (0.27.8)\n",
      "Requirement already satisfied: python-dotenv in /Users/huangleyang/anaconda3/lib/python3.10/site-packages (from -r requirements.txt (line 5)) (1.0.0)\n",
      "Requirement already satisfied: azure-core<2.0.0,>=1.11.0 in /Users/huangleyang/anaconda3/lib/python3.10/site-packages (from azure-identity==1.13.0->-r requirements.txt (line 2)) (1.28.0)\n",
      "Requirement already satisfied: cryptography>=2.5 in /Users/huangleyang/anaconda3/lib/python3.10/site-packages (from azure-identity==1.13.0->-r requirements.txt (line 2)) (39.0.1)\n",
      "Requirement already satisfied: msal<2.0.0,>=1.20.0 in /Users/huangleyang/anaconda3/lib/python3.10/site-packages (from azure-identity==1.13.0->-r requirements.txt (line 2)) (1.22.0)\n",
      "Requirement already satisfied: msal-extensions<2.0.0,>=0.3.0 in /Users/huangleyang/anaconda3/lib/python3.10/site-packages (from azure-identity==1.13.0->-r requirements.txt (line 2)) (1.0.0)\n",
      "Requirement already satisfied: six>=1.12.0 in /Users/huangleyang/anaconda3/lib/python3.10/site-packages (from azure-identity==1.13.0->-r requirements.txt (line 2)) (1.16.0)\n",
      "Requirement already satisfied: azure-common~=1.1 in /Users/huangleyang/anaconda3/lib/python3.10/site-packages (from azure-search-documents==11.4.0b6->-r requirements.txt (line 3)) (1.1.28)\n",
      "Requirement already satisfied: isodate>=0.6.0 in /Users/huangleyang/anaconda3/lib/python3.10/site-packages (from azure-search-documents==11.4.0b6->-r requirements.txt (line 3)) (0.6.1)\n",
      "Requirement already satisfied: requests>=2.20 in /Users/huangleyang/anaconda3/lib/python3.10/site-packages (from openai[datalib]==0.27.8->-r requirements.txt (line 4)) (2.28.1)\n",
      "Requirement already satisfied: tqdm in /Users/huangleyang/anaconda3/lib/python3.10/site-packages (from openai[datalib]==0.27.8->-r requirements.txt (line 4)) (4.64.1)\n",
      "Requirement already satisfied: aiohttp in /Users/huangleyang/anaconda3/lib/python3.10/site-packages (from openai[datalib]==0.27.8->-r requirements.txt (line 4)) (3.8.4)\n",
      "Requirement already satisfied: numpy in /Users/huangleyang/anaconda3/lib/python3.10/site-packages (from openai[datalib]==0.27.8->-r requirements.txt (line 4)) (1.25.2)\n",
      "Requirement already satisfied: pandas>=1.2.3 in /Users/huangleyang/anaconda3/lib/python3.10/site-packages (from openai[datalib]==0.27.8->-r requirements.txt (line 4)) (1.5.3)\n",
      "Requirement already satisfied: pandas-stubs>=1.1.0.11 in /Users/huangleyang/anaconda3/lib/python3.10/site-packages (from openai[datalib]==0.27.8->-r requirements.txt (line 4)) (2.0.2.230605)\n",
      "Requirement already satisfied: openpyxl>=3.0.7 in /Users/huangleyang/anaconda3/lib/python3.10/site-packages (from openai[datalib]==0.27.8->-r requirements.txt (line 4)) (3.0.10)\n",
      "Requirement already satisfied: typing-extensions>=4.3.0 in /Users/huangleyang/anaconda3/lib/python3.10/site-packages (from azure-core<2.0.0,>=1.11.0->azure-identity==1.13.0->-r requirements.txt (line 2)) (4.4.0)\n",
      "Requirement already satisfied: cffi>=1.12 in /Users/huangleyang/anaconda3/lib/python3.10/site-packages (from cryptography>=2.5->azure-identity==1.13.0->-r requirements.txt (line 2)) (1.15.1)\n",
      "Requirement already satisfied: PyJWT[crypto]<3,>=1.0.0 in /Users/huangleyang/anaconda3/lib/python3.10/site-packages (from msal<2.0.0,>=1.20.0->azure-identity==1.13.0->-r requirements.txt (line 2)) (2.4.0)\n",
      "Requirement already satisfied: portalocker<3,>=1.0 in /Users/huangleyang/anaconda3/lib/python3.10/site-packages (from msal-extensions<2.0.0,>=0.3.0->azure-identity==1.13.0->-r requirements.txt (line 2)) (2.7.0)\n",
      "Requirement already satisfied: et_xmlfile in /Users/huangleyang/anaconda3/lib/python3.10/site-packages (from openpyxl>=3.0.7->openai[datalib]==0.27.8->-r requirements.txt (line 4)) (1.1.0)\n",
      "Requirement already satisfied: python-dateutil>=2.8.1 in /Users/huangleyang/anaconda3/lib/python3.10/site-packages (from pandas>=1.2.3->openai[datalib]==0.27.8->-r requirements.txt (line 4)) (2.8.2)\n",
      "Requirement already satisfied: pytz>=2020.1 in /Users/huangleyang/anaconda3/lib/python3.10/site-packages (from pandas>=1.2.3->openai[datalib]==0.27.8->-r requirements.txt (line 4)) (2022.7)\n",
      "Requirement already satisfied: types-pytz>=2022.1.1 in /Users/huangleyang/anaconda3/lib/python3.10/site-packages (from pandas-stubs>=1.1.0.11->openai[datalib]==0.27.8->-r requirements.txt (line 4)) (2023.3.0.0)\n",
      "Requirement already satisfied: charset-normalizer<3,>=2 in /Users/huangleyang/anaconda3/lib/python3.10/site-packages (from requests>=2.20->openai[datalib]==0.27.8->-r requirements.txt (line 4)) (2.0.4)\n",
      "Requirement already satisfied: idna<4,>=2.5 in /Users/huangleyang/anaconda3/lib/python3.10/site-packages (from requests>=2.20->openai[datalib]==0.27.8->-r requirements.txt (line 4)) (3.4)\n",
      "Requirement already satisfied: urllib3<1.27,>=1.21.1 in /Users/huangleyang/anaconda3/lib/python3.10/site-packages (from requests>=2.20->openai[datalib]==0.27.8->-r requirements.txt (line 4)) (1.26.14)\n",
      "Requirement already satisfied: certifi>=2017.4.17 in /Users/huangleyang/anaconda3/lib/python3.10/site-packages (from requests>=2.20->openai[datalib]==0.27.8->-r requirements.txt (line 4)) (2023.5.7)\n",
      "Requirement already satisfied: attrs>=17.3.0 in /Users/huangleyang/anaconda3/lib/python3.10/site-packages (from aiohttp->openai[datalib]==0.27.8->-r requirements.txt (line 4)) (22.1.0)\n",
      "Requirement already satisfied: multidict<7.0,>=4.5 in /Users/huangleyang/anaconda3/lib/python3.10/site-packages (from aiohttp->openai[datalib]==0.27.8->-r requirements.txt (line 4)) (6.0.4)\n",
      "Requirement already satisfied: async-timeout<5.0,>=4.0.0a3 in /Users/huangleyang/anaconda3/lib/python3.10/site-packages (from aiohttp->openai[datalib]==0.27.8->-r requirements.txt (line 4)) (4.0.2)\n",
      "Requirement already satisfied: yarl<2.0,>=1.0 in /Users/huangleyang/anaconda3/lib/python3.10/site-packages (from aiohttp->openai[datalib]==0.27.8->-r requirements.txt (line 4)) (1.9.2)\n",
      "Requirement already satisfied: frozenlist>=1.1.1 in /Users/huangleyang/anaconda3/lib/python3.10/site-packages (from aiohttp->openai[datalib]==0.27.8->-r requirements.txt (line 4)) (1.3.3)\n",
      "Requirement already satisfied: aiosignal>=1.1.2 in /Users/huangleyang/anaconda3/lib/python3.10/site-packages (from aiohttp->openai[datalib]==0.27.8->-r requirements.txt (line 4)) (1.3.1)\n",
      "Requirement already satisfied: pycparser in /Users/huangleyang/anaconda3/lib/python3.10/site-packages (from cffi>=1.12->cryptography>=2.5->azure-identity==1.13.0->-r requirements.txt (line 2)) (2.21)\n",
      "\u001b[33mDEPRECATION: omegaconf 2.0.6 has a non-standard dependency specifier PyYAML>=5.1.*. pip 23.3 will enforce this behaviour change. A possible replacement is to upgrade to a newer version of omegaconf or contact the author to suggest that they release a version with a conforming dependency specifiers. Discussion can be found at https://github.com/pypa/pip/issues/12063\u001b[0m\u001b[33m\n",
      "\u001b[0mNote: you may need to restart the kernel to use updated packages.\n"
     ]
    }
   ],
   "source": [
    "%pip install -r requirements.txt"
   ]
  },
  {
   "cell_type": "markdown",
   "metadata": {},
   "source": [
    "## Import"
   ]
  },
  {
   "cell_type": "code",
   "execution_count": 3,
   "metadata": {},
   "outputs": [],
   "source": [
    "import base64\n",
    "import os\n",
    "import re\n",
    "\n",
    "import openai\n",
    "\n",
    "from azure.core.credentials import AzureKeyCredential\n",
    "from azure.search.documents import SearchClient\n",
    "from azure.search.documents.indexes import SearchIndexClient\n",
    "from azure.search.documents.indexes.models import *\n",
    "from pypdf import PdfReader, PdfWriter\n",
    "\n",
    "import dotenv \n",
    "#load the environment variables of .env file\n",
    "%load_ext dotenv\n",
    "%dotenv\n"
   ]
  },
  {
   "cell_type": "markdown",
   "metadata": {},
   "source": [
    "## Setup Search Index\n",
    "\n",
    "- Search Index is the means by which data is organized and structured so that search engines can generate relevant search results. Search indexing can transform any and all data and file types into searchable data. \n",
    "\n",
    "    - In an abstract sense we are creating a dictionary so that a key can correspond to some values. In our case the embedding is the key and the other field are the values \n",
    "\n",
    "- If we are using Text search instead of Vector search, search index will be setup in a structure called **Inverted Index**. Read more at: https://www.geeksforgeeks.org/inverted-index/"
   ]
  },
  {
   "cell_type": "code",
   "execution_count": 4,
   "metadata": {},
   "outputs": [
    {
     "ename": "HttpResponseError",
     "evalue": "(ResourceNameAlreadyInUse) Cannot create index 'test-test' because it already exists.\nCode: ResourceNameAlreadyInUse\nMessage: Cannot create index 'test-test' because it already exists.\nException Details:\t(CannotCreateExistingIndex) Cannot create index 'test-test' because it already exists.\n\tCode: CannotCreateExistingIndex\n\tMessage: Cannot create index 'test-test' because it already exists.",
     "output_type": "error",
     "traceback": [
      "\u001b[0;31m---------------------------------------------------------------------------\u001b[0m",
      "\u001b[0;31mHttpResponseError\u001b[0m                         Traceback (most recent call last)",
      "\u001b[1;32m/Users/huangleyang/Desktop/Projects/innochat_template/prepdoc/prepdoc.ipynb Cell 7\u001b[0m line \u001b[0;36m3\n\u001b[1;32m      <a href='vscode-notebook-cell:/Users/huangleyang/Desktop/Projects/innochat_template/prepdoc/prepdoc.ipynb#W6sZmlsZQ%3D%3D?line=6'>7</a>\u001b[0m index \u001b[39m=\u001b[39m SearchIndex(\n\u001b[1;32m      <a href='vscode-notebook-cell:/Users/huangleyang/Desktop/Projects/innochat_template/prepdoc/prepdoc.ipynb#W6sZmlsZQ%3D%3D?line=7'>8</a>\u001b[0m             name\u001b[39m=\u001b[39mos\u001b[39m.\u001b[39mgetenv(\u001b[39m\"\u001b[39m\u001b[39mAZURE_SEARCH_INDEX\u001b[39m\u001b[39m\"\u001b[39m),\n\u001b[1;32m      <a href='vscode-notebook-cell:/Users/huangleyang/Desktop/Projects/innochat_template/prepdoc/prepdoc.ipynb#W6sZmlsZQ%3D%3D?line=8'>9</a>\u001b[0m             fields\u001b[39m=\u001b[39m[\n\u001b[0;32m   (...)\u001b[0m\n\u001b[1;32m     <a href='vscode-notebook-cell:/Users/huangleyang/Desktop/Projects/innochat_template/prepdoc/prepdoc.ipynb#W6sZmlsZQ%3D%3D?line=29'>30</a>\u001b[0m                 )        \n\u001b[1;32m     <a href='vscode-notebook-cell:/Users/huangleyang/Desktop/Projects/innochat_template/prepdoc/prepdoc.ipynb#W6sZmlsZQ%3D%3D?line=30'>31</a>\u001b[0m             )\n\u001b[1;32m     <a href='vscode-notebook-cell:/Users/huangleyang/Desktop/Projects/innochat_template/prepdoc/prepdoc.ipynb#W6sZmlsZQ%3D%3D?line=32'>33</a>\u001b[0m \u001b[39m# Create the search index\u001b[39;00m\n\u001b[0;32m---> <a href='vscode-notebook-cell:/Users/huangleyang/Desktop/Projects/innochat_template/prepdoc/prepdoc.ipynb#W6sZmlsZQ%3D%3D?line=33'>34</a>\u001b[0m index_client\u001b[39m.\u001b[39;49mcreate_index(index)\n",
      "File \u001b[0;32m~/anaconda3/lib/python3.10/site-packages/azure/core/tracing/decorator.py:76\u001b[0m, in \u001b[0;36mdistributed_trace.<locals>.decorator.<locals>.wrapper_use_tracer\u001b[0;34m(*args, **kwargs)\u001b[0m\n\u001b[1;32m     74\u001b[0m span_impl_type \u001b[39m=\u001b[39m settings\u001b[39m.\u001b[39mtracing_implementation()\n\u001b[1;32m     75\u001b[0m \u001b[39mif\u001b[39;00m span_impl_type \u001b[39mis\u001b[39;00m \u001b[39mNone\u001b[39;00m:\n\u001b[0;32m---> 76\u001b[0m     \u001b[39mreturn\u001b[39;00m func(\u001b[39m*\u001b[39;49margs, \u001b[39m*\u001b[39;49m\u001b[39m*\u001b[39;49mkwargs)\n\u001b[1;32m     78\u001b[0m \u001b[39m# Merge span is parameter is set, but only if no explicit parent are passed\u001b[39;00m\n\u001b[1;32m     79\u001b[0m \u001b[39mif\u001b[39;00m merge_span \u001b[39mand\u001b[39;00m \u001b[39mnot\u001b[39;00m passed_in_parent:\n",
      "File \u001b[0;32m~/anaconda3/lib/python3.10/site-packages/azure/search/documents/indexes/_search_index_client.py:211\u001b[0m, in \u001b[0;36mSearchIndexClient.create_index\u001b[0;34m(self, index, **kwargs)\u001b[0m\n\u001b[1;32m    209\u001b[0m kwargs[\u001b[39m\"\u001b[39m\u001b[39mheaders\u001b[39m\u001b[39m\"\u001b[39m] \u001b[39m=\u001b[39m \u001b[39mself\u001b[39m\u001b[39m.\u001b[39m_merge_client_headers(kwargs\u001b[39m.\u001b[39mget(\u001b[39m\"\u001b[39m\u001b[39mheaders\u001b[39m\u001b[39m\"\u001b[39m))\n\u001b[1;32m    210\u001b[0m patched_index \u001b[39m=\u001b[39m index\u001b[39m.\u001b[39m_to_generated()  \u001b[39m# pylint:disable=protected-access\u001b[39;00m\n\u001b[0;32m--> 211\u001b[0m result \u001b[39m=\u001b[39m \u001b[39mself\u001b[39;49m\u001b[39m.\u001b[39;49m_client\u001b[39m.\u001b[39;49mindexes\u001b[39m.\u001b[39;49mcreate(patched_index, \u001b[39m*\u001b[39;49m\u001b[39m*\u001b[39;49mkwargs)\n\u001b[1;32m    212\u001b[0m \u001b[39mreturn\u001b[39;00m SearchIndex\u001b[39m.\u001b[39m_from_generated(result)\n",
      "File \u001b[0;32m~/anaconda3/lib/python3.10/site-packages/azure/core/tracing/decorator.py:76\u001b[0m, in \u001b[0;36mdistributed_trace.<locals>.decorator.<locals>.wrapper_use_tracer\u001b[0;34m(*args, **kwargs)\u001b[0m\n\u001b[1;32m     74\u001b[0m span_impl_type \u001b[39m=\u001b[39m settings\u001b[39m.\u001b[39mtracing_implementation()\n\u001b[1;32m     75\u001b[0m \u001b[39mif\u001b[39;00m span_impl_type \u001b[39mis\u001b[39;00m \u001b[39mNone\u001b[39;00m:\n\u001b[0;32m---> 76\u001b[0m     \u001b[39mreturn\u001b[39;00m func(\u001b[39m*\u001b[39;49margs, \u001b[39m*\u001b[39;49m\u001b[39m*\u001b[39;49mkwargs)\n\u001b[1;32m     78\u001b[0m \u001b[39m# Merge span is parameter is set, but only if no explicit parent are passed\u001b[39;00m\n\u001b[1;32m     79\u001b[0m \u001b[39mif\u001b[39;00m merge_span \u001b[39mand\u001b[39;00m \u001b[39mnot\u001b[39;00m passed_in_parent:\n",
      "File \u001b[0;32m~/anaconda3/lib/python3.10/site-packages/azure/search/documents/indexes/_generated/operations/_indexes_operations.py:403\u001b[0m, in \u001b[0;36mIndexesOperations.create\u001b[0;34m(self, index, request_options, **kwargs)\u001b[0m\n\u001b[1;32m    401\u001b[0m     map_error(status_code\u001b[39m=\u001b[39mresponse\u001b[39m.\u001b[39mstatus_code, response\u001b[39m=\u001b[39mresponse, error_map\u001b[39m=\u001b[39merror_map)\n\u001b[1;32m    402\u001b[0m     error \u001b[39m=\u001b[39m \u001b[39mself\u001b[39m\u001b[39m.\u001b[39m_deserialize\u001b[39m.\u001b[39mfailsafe_deserialize(_models\u001b[39m.\u001b[39mSearchError, pipeline_response)\n\u001b[0;32m--> 403\u001b[0m     \u001b[39mraise\u001b[39;00m HttpResponseError(response\u001b[39m=\u001b[39mresponse, model\u001b[39m=\u001b[39merror)\n\u001b[1;32m    405\u001b[0m deserialized \u001b[39m=\u001b[39m \u001b[39mself\u001b[39m\u001b[39m.\u001b[39m_deserialize(\u001b[39m\"\u001b[39m\u001b[39mSearchIndex\u001b[39m\u001b[39m\"\u001b[39m, pipeline_response)\n\u001b[1;32m    407\u001b[0m \u001b[39mif\u001b[39;00m \u001b[39mcls\u001b[39m:\n",
      "\u001b[0;31mHttpResponseError\u001b[0m: (ResourceNameAlreadyInUse) Cannot create index 'test-test' because it already exists.\nCode: ResourceNameAlreadyInUse\nMessage: Cannot create index 'test-test' because it already exists.\nException Details:\t(CannotCreateExistingIndex) Cannot create index 'test-test' because it already exists.\n\tCode: CannotCreateExistingIndex\n\tMessage: Cannot create index 'test-test' because it already exists."
     ]
    }
   ],
   "source": [
    "# Setup the required credentials for using Azure cognitive search\n",
    "search_endpoint = f\"https://{os.getenv('AZURE_SEARCH_SERVICE')}.search.windows.net/\"\n",
    "search_creds = AzureKeyCredential(os.getenv(\"AZURE_SEARCH_KEY\"))\n",
    "index_client = SearchIndexClient(endpoint= search_endpoint, credential=search_creds)\n",
    "\n",
    "index_name = os.getenv(\"AZURE_SEARCH_INDEX\")\n",
    "\n",
    "if index_name not in index_client.list_index_names():\n",
    "    # Define a search index\n",
    "    index = SearchIndex(\n",
    "                name=index_name,\n",
    "                fields=[\n",
    "                    SimpleField(name=\"id\", type=\"Edm.String\", key=True),                                              #Unique id field\n",
    "                    SearchableField(name=\"content\", type=\"Edm.String\", analyzer_name=\"en.microsoft\"),                 #Content field\n",
    "                    SearchField(name=\"embedding\", type=SearchFieldDataType.Collection(SearchFieldDataType.Single),  \n",
    "                                hidden=False, searchable=True, filterable=False, sortable=False, facetable=False,\n",
    "                                vector_search_dimensions=1536, vector_search_configuration=\"default\"),                #Searchable field: Embedding\n",
    "                    SimpleField(name=\"sourcepage\", type=\"Edm.String\", filterable=True, facetable=True),               #Blob name field\n",
    "                    SimpleField(name=\"sourcefile\", type=\"Edm.String\", filterable=True, facetable=True)                #File name field\n",
    "                ],\n",
    "                \n",
    "                #Additional Semantic Setting if we want to use the semantic search feature in the future\n",
    "                semantic_settings=SemanticSettings(\n",
    "                    configurations=[SemanticConfiguration(\n",
    "                        name='default',\n",
    "                        prioritized_fields=PrioritizedFields(title_field=None, prioritized_content_fields=[SemanticField(field_name='content')]))]),\n",
    "                    vector_search=VectorSearch(\n",
    "                        algorithm_configurations=[\n",
    "                            VectorSearchAlgorithmConfiguration(\n",
    "                                name=\"default\",\n",
    "                                kind=\"hnsw\",\n",
    "                                hnsw_parameters=HnswParameters(metric=\"cosine\") \n",
    "                            )\n",
    "                        ]\n",
    "                    )        \n",
    "                )   \n",
    "    # Create the search index\n",
    "    index_client.create_index(index)\n",
    "else:\n",
    "    print(f\"Index: '{index_name}' already exists\")"
   ]
  },
  {
   "cell_type": "markdown",
   "metadata": {},
   "source": [
    "## Setup Embedding model\n",
    "\n",
    "- Embedding is the process of turning text in to a very high dimensional vector, where each dimensional represents a feature of the text. Therefore the semantics of the text can be emmbedded in the vector representation\n",
    "\n",
    "- There we simplifies the OpenAI Embedding API call into a function"
   ]
  },
  {
   "cell_type": "code",
   "execution_count": 5,
   "metadata": {},
   "outputs": [],
   "source": [
    "# Setup the required credential for using Azure OpenAI\n",
    "openai.api_type = \"azure\"\n",
    "openai.api_key = os.getenv(\"AZURE_OPENAI_KEY\")      \n",
    "openai.api_base = os.getenv(\"AZURE_OPENAI_ENDPOINT\")\n",
    "openai.api_version = \"2023-05-15\"\n",
    "\n",
    "def compute_embedding(text):\n",
    "    return openai.Embedding.create(engine=\"embedding\", input=text)[\"data\"][0][\"embedding\"]"
   ]
  },
  {
   "cell_type": "markdown",
   "metadata": {},
   "source": [
    "## Extract data from documents\n",
    "\n",
    "- Using a python library **pdfreader** to extract the text of our pdf documents and stores it in a special data structure"
   ]
  },
  {
   "cell_type": "code",
   "execution_count": 7,
   "metadata": {},
   "outputs": [
    {
     "name": "stdout",
     "output_type": "stream",
     "text": [
      "Extracting text from './data/The_Innovation_Wings.pdf' using PdfReader\n"
     ]
    },
    {
     "data": {
      "text/plain": [
       "[(0,\n",
       "  0,\n",
       "  'The Innovation Wings The Tam Wing Fan Innovation Wing One, also known as innovation wing, or innowing for short provides an open environment to foster interdisciplinary innovations among undergraduate students and teachers in Engineering and Technology. The provision of state-of-the-art facilities in a collaborative space will enable curriculum innovations that emphasize hands-on and experiential learning activities. The Innovation Wing serves as a platform to engage the young generation to explore the world, create opportunities for them to learn about the needs of the underprivileged, and acquire practical hands-on experience in developing solutions with real-world impact.  The Tam Wing Fan Innovation Wing Two aims to serve as an enabling platform for Engineering researchers to interact and collaborate synergistically with researchers and professionals across various disciplines to tackle grand challenges and deliver research outputs with significant impact to Hong Kong and global communities, and at the same time to share the Faculty’s latest research achievements/findings/outputs with the large HKU and Hong Kong communities in widely accessible forms for example exhibitions and talks on research topics.  Direction  From the HKU MTR Station exit A2 Innovation Wing is located very close to the exit A2 of the HKU MTR station . There are 8 lifts at exit A2 connecting the HKU MTR station and the HKU Campus. Turn left on the University Street You will see the Haking Wong building in front of you.  Please turn left and continue walking at the University Street. Arrive at the Innovation Wing   Just continue walking for less than a minute and you will reach the main entrance of Innovation Wing. Welcome to the Innovation Wing!   Please note that Innovation Wing is not open access and only registered members are permitted to access to its facilities, equipment and services.  Please also note the opening hour for members, and the opening hour of the Innovation Wing Office listed at the bottom of this page. Come in through the main entrance Please come inside Innovation Wing through the main entrance.  '),\n",
       " (1,\n",
       "  2131,\n",
       "  'Opening hours  Venue access for members • Monday to Friday: 9:00am – 9:00pm • Saturday 9:00am – 1:00pm • Closed on Sunday and public/university holiday except for approved events/activities.  • The supervisor of our Innovation Wing affiliated student interest groups can raise an application to Innovation Wing Office (innowing@hku.hk) for their team to enter the special project studios after opening hours. Details can be found at https://innowings.engg.hku.hk/sig/#extend Innovation Wing Office • Monday to Friday: 9:00am – 5:30pm • Saturday 9:00am – 12:30pm • Closed on Sunday and public/university holiday except for approved events/activities.   Educational Aim Entrusting and empowering students  Unleash the creative potential of our students by entrusting them to spearhead ambitious innovation and technology projects that will shape the future. Be an innovator Embark on your journey of technology innovation in the Innovation Wing Are you a student with a passion for innovation? Do you have an idea for a project that could change the world? Join us at the Innovation Wing of HKU! We offers a unique opportunity for individuals and teams to develop and showcase their innovative ideas in a supportive and collaborative environment. With access to state-of-the-art resources, expert guidance, and a community of like-minded individuals, you’ll have everything you need to turn your idea into a reality. Don’t miss out on this chance to make a difference – apply now to join the Innovation Wing and unleash your creativity! SIG SIG – HKU UAS (Unmanned aerial system)  HKU UAS is a student interest group focusing on Unmanned Aerial Systems (UAS). We aim to gather self-motivated drone lovers to learn and work on drone projects together. Not only to gain a lot of hands-on experience, by joining us, you could improve your mechanical skills and learn and apply electrical and computer science skills. '),\n",
       " (2,\n",
       "  4043,\n",
       "  'With the support of Innovation Wing, we plan to join competitions to test our knowledge and skills, also to learn from other teams and gain valuable experience. In 2022, the team build the system based on the rules of AUVSI SUAS 2023. The AUVSI SUAS Competition is a yearly event, designed to stimulate interest in UAS technologies and careers, and to engage students in a challenging UAS mission. SIG – Smart Elderly Walker  This project aims to develop the set of technologies to achieve convenient-to-use mobility support for daily use of the elderly. In this project, we are developing a smart elderly walker which is intended to play an active role in an elderly person’s daily life, with three fundamental functionalities that do not exist or not well supported by (smart) walkers in the market: smart walking assistance; falling prevention and support; autonomous mobility. A set of mechanical, control, sensory, and AI technologies is being developed including: (1) novel walker mechanical structure with omnidirectional mobility and outrigger mechanisms; (2) dual-mode actuation and control for walking/standing support and fall prevention/ recovery; (3) multimodal sensory data collection through soft sensory skin, and data processing on device and in the cloud, for event detection and control such as user front following and fall detection; (4) sound-source localization for elderly localisation and auto-navigation of walker. SIG – BREED Robotics  BREED is a student group committed to developing and promoting bio-inspired technology. Our flagship VAYU project – the world’s fastest robotic fish – and our upcoming initiatives such as our robotic dog aim to educate and enhance awareness in the general student body. Using designs perfected by millions of years of natural evolution, we adapt selected features into increasing effectiveness of man-made robots. We aim to establish a hub based in the Innovation Wing where this development can take root in the local community, increasing awareness and interest while promoting scientific innovation: this will be done through outreach projects, educational initiatives, as well as the continuation of various bio-inspired initiatives under BREED. SIG – HKU RoboMaster  Robomaster is a national robotics competition for university students, hosted by DJI. The project is about forming a team to design various types of smart robots which can engage in face-to-face, videogame-style battles. The preparation process involves the knowledge in the following disciplines: mechanical and hardware design, control theory application, computer vision and smart algorithm, technical management. The ultimate purpose of the project is to develop the skills, quality and team spirit of engineering students that can be beneficial in their future career. SIG – HKU Racing  Formula Student is a renowned educational engineering competition, combining practical engineering with soft skills including business planning and project management. It is a '),\n",
       " (3,\n",
       "  7046,\n",
       "  'proving ground for students who want to create and change the world. Electrification of transportation system is here, the combination of electric powertrain and traditional mechanical system has made this competition attractive to lots of industries leading to companys’ attention and support. This competition jump starts our students’ knowledge and skills set for their future career. HKU Racing is the first team from Hong Kong to compete in Formula Student (European series). SIG – Quantum Bit Demonstrator  The world is currently in the midst of a second-quantum revolution, which will see the counter intuitive properties of quantum systems such as superposition and entanglement, being applied for commercial technologies such as quantum computing, quantum sensing, and quantum communications. Quantum Computing is mostly taught to undergraduates in a classroom focusing mostly on theoretical and mathematical concepts with minimal laboratory components. This is primarily because research laboratories working in quantum science are too expensive, bulky, and complicated to be used for undergraduate teaching purposes. We wish to bridge that gap by building a compact, user-friendly, interactive setup to introduce quantum physics to a younger non-expert audience. The goal of the project is to create a curriculum for quantum technology, a sustainable education model, with an in-class demonstration kit for quantum science education. SIG – Engineering and Archaeology  We are forming a new interest group at the Innovation Wing, as a collaboration with humanities and educational researchers at HKU.  In this group, we plan to pursue several interdisciplinary projects that will improve the ways we can study and teach about the human past. Our projects will include uses of augmented and virtual reality in recording, teaching, and presenting archaeological sites. We are also studying the use of machine learning and computer vision for several purposes to study visual datasets such as satellite images of ancient landscapes. We work with a field project that travels to Armenia each summer to excavate. We welcome anyone who would like to join our team, from any Faculty. We especially invite engineers and computer scientists, but we also have many other projects which anyone with an interest can join. Let’s learn about the human past together! Thank you! SIG – HKU Astar (formerly RoboMaster ICRA AI Challenge)  HKU Astar is a student group who participates in Robomaster University AI Challenge Competition. Robomaster University AI Challenge is an AI-based robotics competition for university students held by DJI and IEEE International Conference on Robotics and Automation. It emphasizes on writing AI algorithms and tuning and choosing and training machine learning models to power pure automatic robots to accomplish complex goals like building maps, avoiding collision and tracking. Our team aims to build AI Robot tuples that can work purely automatically. Implementing and design decision policies according to competition requirements. Training AI networks to recognize and track objects. Implement localization and motion planning on robots under uncertainty.  '),\n",
       " (4,\n",
       "  10237,\n",
       "  'SIG – IIIs for VIPs  IIIs for VIPs is an SIG collaborating with our supervisor Dr. Joseph Chan. It aims to provide a space where students can create inventions which help improve the daily lives of visually impaired persons (VIPs). We welcome students from engineering, medicine and interested students from other faculties. Our SIG will support our members in finishing their projects until it becomes available for public use. Any project with the purpose of improving the activities of daily living for VIPs are welcome. SIG – PERfECT Wearables for Digital Health  Internet of things (IoT) has attracted huge attention because of its potential to connect things together with the cloud. Similarly, the Internet of Health (IoH) aims to enable real-time health evaluation of an individual or a group with advanced medical devices. This feat can be realized by developing tiny wearable biosensors that can be easily deployed on the human body to monitor health signals. This project develops next-generation wearable biosensors to allow digital healthcare. There are two main components. First, we develop skin-attachable biosensors which detect health signals including electrophysiological signals, temperature, and antibodies or glucose in the sweat. Second, we develop miniaturized sensor characterization systems to enable comfort wear for practical applications. The whole set can communicate the data wirelessly with other electronic devices. This will be one of the smallest wearable devices developed so far. Future research is being conducted by our group at the innovation wing now at HKU.  SIG – HKU Robocon  The annual Robocon competition project allows HKU engineering students from different disciplines to design and fabricate innovative robots with an integration of various advanced technologies, including IoT sensors, AI, computer vision, and mobile computing. Besides, it provides hands-on experiences on product design, prototyping, CNC machining, design and fabrication of electric circuit and PCB, control program development, etc.  Membership  • Membership of Innovation Wing, once approved, will be effective until graduation. • Only registered members of Innovation Wing are permitted to access to its facilities, equipment and services with his/her HKU student/staff card. • Please go through the following three steps (namely Registration, Deposit Payment, and General Safety Training) before granting access to the Innovation Wing. Step 1. Registration  Eligibility:  • Undergraduate students and academic staff in the Faculty of Engineering.  '),\n",
       " (5,\n",
       "  12811,\n",
       "  '• HKU undergraduate students, taught postgraduate students and research postgraduate students, academic staff, and technical staff who is a team member of an Innovation Wing affiliated student interest group (SIG) are  eligible for membership. • Undergraduate students and academic staff who is a member of the InnoHub programme organized by the Innovation Academy. • Registered members of Innovation Wing are permitted access to its facilities, equipment and services.  Eligible students will be added to the following Innovation Wing Moodle page where they can apply for membership of Innovation Wing. If you are eligible for Innovation Wing membership but yet to have access to the following Moodle, please send an inquiry to innowing[at]hku.hk. Eligible students can apply here HKU Moodle for Innovation Wing  Step 2. Inno Induction and quiz on the general safety, rules, and guidelines  On the Moodle page, applicants must watch a induction video, which includes • an introduction to the facility and equipment of Innovation Wing One • a presentation for the general safety, rules, and guidelines (Please refer to the following section for the rules and guidelines for Innovation Wing users), and • a preview of the events/activities for Innovation Wing members. After watching the induction video, students will complete on Moodle: • a quiz on the general safety, rules and guidelines; and • a declaration on health and disability and agreeing to follow the rules and guidelines of the Innovation Wing. After passing the quiz: • Students are come to Innovation Wing physically and meet with our on-site tutors, technicians, and academic staff for in-person induction. • Students can also register for the in-person equipment training programme that focuses on the operational safety of the maker space facilities (note that many pieces of equipment in Innovation Wing are for trained members only). Step 3. Membership Deposit  • A fee of HK$300 is required as a deposit to secure the membership of the Innovation Wing. This fee is used for covering any repair and replacement costs of equipment and facilities in Innovation Wing caused by member. • The decision of imposing penalty rests with the Innovation Wing Office. • Students should follow the instructions at the SIS and complete the payment before deadline. '),\n",
       " (6,\n",
       "  15133,\n",
       "  '• The deposit is refundable at the end of the membership. Students wishing to renew the membership for the subsequent year can inform the Innovation Wing Office accordingly. Arrangement of refundable deposit  • A fee of HKD $300 is required as a deposit to secure the membership of the Innovation Wing. This fee is used for covering any repair/replacement costs to the equipment and facilities in Innovation Wing due to any damages caused by the member.  • Applicants should follow the instructions at the SIS and complete the payment before the deadline. • The decision of imposing a penalty rests with the Innovation Wing Office. • The Inno Wing Office keeps on the balance of student deposit and the member should restore annually. During the year when the remainder is HKD $0 or overdraft (OD), a new invoice of HKD $300 deposit will be issued to the student via SIS in due case. • The deposit is refundable at the end of the membership and will process in a batch. Students wishing to renew the membership for the subsequent year can inform the Innovation Wing Office accordingly. Rules and Guidelines for Users  The Tam Wing Fan Innovation Wing is a collaborative space established to facilitate student experiential learning and researchers’ demonstration of their works for knowledge exchange. To accommodate the needs of different user groups, the Innovation Wing has to balance between safety, fair use and care for the facilities. To guard against misuse, it maintains a membership system. Only registered members of Innovation Wing are permitted to use the facilities, equipment and services.  Users must exhibit respectable behaviour, and must not jeopardize the rights of other users of the facility.  Below is a list of Rules and Guidelines which users of the Innovation Wing must follow. 1. Violation of rules • Repeated violation of any of the rules may result in immediate suspension of membership and revoking of access right to the Innovation Wing, its facilities and services. 2. Access restriction • Only registered members of Innovation Wing are allowed to enter from the main entrance on the ground floor of Hui Oi Chow Science Building. • Users should NOT bring in other people even if they forget to bring their access cards. 3. Closing time and under bad weather arrangement • The opening hour for members  o Monday to Friday: 9:00 am – 9:00 pm o Saturday 9:00am – 1:00pm o Closed on Sunday and public/university holiday except for approved events/activities.  o Users should leave the premises when the closing time of Innovation Wing is announced. • Innovation Wing divides the opening hour into three sessions:  '),\n",
       " (7,\n",
       "  17775,\n",
       "  'o Morning session (9 am – 1 pm) o Afternoon session (1 pm – 5 pm) o Night session (5 pm – 9 pm) o Users should clean and tidy up the workplace at the end of each session. Under the situations listed below: 1.  1. Tropical Cyclone Warning Signal No. 8 (or above) is hoisted, or 2. Tropical Cyclone Warning Signal No. 8 will be issued within two hours as announced by the Hong Kong Observatory; or 3. “Extreme conditions” after super typhoons are in force (announced by the Government before the Hong Kong Observatory replaces Tropical Cyclone Warning Signal No. 8 with Tropical Cyclone Warning Signal No. 3); or Black Rainstorm Signal is in force, the following arrangements will apply: • For sessions not yet started  o If any of the warnings or announcements is hoisted or in force at or after 6:00 a.m. – Innovation Wing will be closed in the morning session (9 am-1 pm). o If any of the warnings or announcements is hoisted or in force at or after 11:00 a.m. – Innovation Wing will be closed in the afternoon session (1 pm – 5 pm). o If any of the warnings or announcements is hoisted or in force at or after 3:00 p.m. – Innovation Wing will be closed in the night session (5 pm – 9 pm). • For sessions already started  o When Tropical Cyclone Warning Signal No. 8 or above is hoisted or the No. 8 Signal will be issued within two hours as announced by the Hong Kong Observatory, or “extreme conditions” are in force – Innovation Wing will continue to open until the end of that session. o When Black Rainstorm Signal is hoisted – Innovation Wing will continue to open until the end of that session. When Tropical Cyclone Warning Signal No. 3 or below or Red or Amber Rainstorm Signal is in force, it should be assumed that Innovation Wing will be open as scheduled unless an announcement to the contrary has been made by the University. • Please refer to the following link for the University’s arrangement during bad weather: http://www.handbook.hku.hk/ug/full-time-2019-20/arrangements-during-bad-weather • Innovation Wing Office reserves the right to close the Innovation Wing at any time without prior notice in/before the event of adverse weather or other emergencies.   4. Follow instructions of technicians and tutors of Innovation Wing • Users should follow instructions of technicians and tutors of Innovation Wing • The on-duty technicians and tutors will wear the following badges.  • Users should take note of the location and the use of the safety station in Innovation Wing, which provides personal protective equipment, first aid boxes, and fire extinguishers. • Users should read and follow the safety arrangements of the Tam Wing Fan Innovation Wing: '),\n",
       " (8,\n",
       "  20447,\n",
       "  'Safety Arrangements of Tam Wing Fan Innovation Wing    • Users should take note of the fire evacuation plan and assembly point of the Innovation Wing (G/F and LG/F of the Hui Oi Chow Building) as designated in the following website. http://www.safety.hku.hk/homepage/manual_Floorplan.html 9. Cleanliness and tidiness  • Users should clean and tidy up the workplace at the end of every session/after use. • Users should return the workplace to its original settings at the end of every session/after use. 10. Food and cooking • Food and beverages are allowed only in areas designated by signage. • Alcoholic beverages are not allowed in the Innovation Wing. • Cooking or heating is strictly prohibited. 11. Posters  • Posting of posters inside or at the exterior glass façade of the Innovation Wing is strictly forbidden unless prior approval has been given by the Innovation Wing Office. 12. Shipping/delivery of items • Users are NOT allowed to use the Innovation Wing as the shipping/delivery address of items. 13. Project items  • Users should obtain the approval from the Innovation Wing Office before moving in any project items (including but not limited to project equipment, tools, materials and storage boxes) into Innovation Wing. 14. Project storage • Users should NOT leave any project items (including but not limited to project equipment, tools, materials and storage boxes) in Innovation Wing unless prior approval has been given by the Innovation Wing Office. • Supervisor of Innovation Wing affiliated Student Interest Groups (SIGs) can request for storage space such as cabinets and temporary storage area. Innovation Wing Office shall make the best effort to accommodate the request. • The Innovation Wing Office has the right to allocate/relocate/revoke the storage space for the SIG teams. • When storage space becomes inadequate, the Innovation Wing Office has the right to request the SIG team to relocate its project items back to their host department. 15. Personal property '),\n",
       " (9,\n",
       "  22447,\n",
       "  '• Users are responsible for their personal property at all times and should never leave personal belongings unattended. • Project/personal items left unattended for 30 minutes or longer may be removed by Innovation Wing staff as Lost and Found items to make the occupied space available to others. • Innovation Wing Office and The University of Hong Kong shall not be responsible for any loss of or damage to their personal belongings and properties. 16. Surveillance system • The Innovation Wing is conscious of the expectations between security, personal liberty and privacy. The installation of the surveillance system is therefore meant for protecting community safety and only in the public area. Users will be forewarned of the presence of the surveillance system. 17. Lost and Found  • Lost and Found items at the Innovation Wing are handled by the Innovation Wing Office in cooperation with the University’s Security Office. 18. Chemical and hazardous items • Unless approved by the Innovation Wing Safety Officer, chemical and hazardous items should NOT be brought into the workspace. 19. Clothing • Users must wear proper attire at all times inside the Innovation Wing. DO NOT wear sandals or open-toed shoes. 20. Sleeping • Sleeping (including overnight sleeping) is strictly prohibited in the workspace. 21. Gambling  • Gambling is strictly prohibited at all times in the Innovation Wing. 22. Smoking • Smoking is prohibited in the University campus including the Innovation Wing. 23. Soliciting • In order to respect the privacy, security and comfort of all Innovation Wing users, soliciting is not permitted unless prior approval from the Innovation Wing Office has been obtained. This applies to the request of money, services, favours, goods, opinions and signatures, petitioning, interviewing, and selling of any products or services. 24. Animals and guide dogs '),\n",
       " (10,\n",
       "  24326,\n",
       "  '• Animals and pets are not allowed in Innovation Wing. • Guide dogs are allowed in the general area of the Innovation Wing. For entering the workspace area, users should contact our Technical Manager/safety representative for assistance. 25. Cell phone • Please set cell phones, pagers, and other electronic devices to silent or vibration mode in Innovation Wing. Keep your voice down when using cell phones. 26. Use of IT facilities • Policies and guidelines governing the use of IT facilities can be viewed at http://www.its.hku.hk/about/policies. • All PCs in the Innovation Wing will be logged off automatically after idling for 30 minutes. Files saved in the PC will be DELETED upon logoff/shutdown. 27. Children • Children under the age of 17 other than HKU students should be accompanied by and under the supervision of an adult at all times who are responsible for the behaviour of accompanying children. 28. Protection of copyright works • Protection of copyright works is taken seriously by the Innovation Wing. All users, including guests visiting the exhibition hall, would be asked to respect the rights of the copyright owner and should NOT make a copy by any material form without licence or authorization by the owner. • Unless permitted by either the owner of the copyrighted work or the Innovation Wing Office, users should NOT take any photo, video or create drawing on the works.  • Please refer to the Hong Kong Copyright Ordinance for details or seek advice from your supervisor. 29. Interpretation of the rules and regulations • In case of dispute, the Innovation Wing Office has the sole and final discretion of interpretation of these regulations. 30. End of membership • Termination of membership will be processed in batch. • Tam Wing Fan Innovation Wing reserves the right to terminate a membership or member’s access to the Innovation Wing at any time and for any reason without providing prior notice. • On the termination of Innovation Wing membership, the following steps will be executed:                 • Revoke all access rights to Innovation Wing.  • Return of borrowed equipment (if any).     • Refund of membership deposit (or settle of overdraft amount).  ')]"
      ]
     },
     "execution_count": 7,
     "metadata": {},
     "output_type": "execute_result"
    }
   ],
   "source": [
    "filename=\"./data/\" + \"The_Innovation_Wings.pdf\" #Change to name of yout file (make sure the file name does not include any space)\n",
    "\n",
    "offset = 0       #The character count from the start of the document\n",
    "page_map = []    #List of turples: (page_num, offset, page_text)\n",
    "\n",
    "print(f\"Extracting text from '{filename}' using PdfReader\")\n",
    "\n",
    "reader = PdfReader(filename)\n",
    "pages = reader.pages\n",
    "for page_num, p in enumerate(pages):\n",
    "    page_text = p.extract_text()\n",
    "    page_map.append((page_num, offset, page_text))\n",
    "    offset += len(page_text)\n",
    "    \n",
    "page_map"
   ]
  },
  {
   "cell_type": "markdown",
   "metadata": {},
   "source": [
    "## Section the extracted text\n",
    "\n",
    "- Sectioning means segmenting/splitting text before indexing them, it brings a few benefits:\n",
    "\n",
    "    - Improved Efficiency: Faster and more efficient vector search. \n",
    "\n",
    "    - Enhanced Precision: By indexing smaller text segments the search engine can capture the fine-grained semantic information present in the data.\n",
    "    "
   ]
  },
  {
   "cell_type": "code",
   "execution_count": 8,
   "metadata": {},
   "outputs": [],
   "source": [
    "MAX_SECTION_LENGTH = 1000\n",
    "SENTENCE_SEARCH_LIMIT = 100\n",
    "SECTION_OVERLAP = 100\n",
    "\n",
    "\n",
    "def filename_to_id(filename): \n",
    "    filename_ascii = re.sub(\"[^0-9a-zA-Z_-]\", \"_\", filename)\n",
    "    filename_hash = base64.b16encode(filename.encode('utf-8')).decode('ascii')\n",
    "    return f\"file-{filename_ascii}-{filename_hash}\"\n",
    "\n",
    "def split_text(page_map):\n",
    "    SENTENCE_ENDINGS = [\".\", \"!\", \"?\"]\n",
    "    WORDS_BREAKS = [\",\", \";\", \":\", \" \", \"(\", \")\", \"[\", \"]\", \"{\", \"}\", \"\\t\", \" \"]\n",
    "\n",
    "    def find_page(offset):\n",
    "        l = len(page_map)\n",
    "        for i in range(l - 1):\n",
    "            if offset >= page_map[i][1] and offset < page_map[i + 1][1]:\n",
    "                return i\n",
    "        return l - 1\n",
    "\n",
    "    all_text = \"\".join(p[2] for p in page_map)\n",
    "    length = len(all_text)\n",
    "    start = 0\n",
    "    end = length\n",
    "    while start + SECTION_OVERLAP < length:\n",
    "        last_word = -1\n",
    "        end = start + MAX_SECTION_LENGTH\n",
    "\n",
    "        if end > length:\n",
    "            end = length\n",
    "        else:\n",
    "            # Try to find the end of the sentence\n",
    "            while end < length and (end - start - MAX_SECTION_LENGTH) < SENTENCE_SEARCH_LIMIT and all_text[end] not in SENTENCE_ENDINGS:\n",
    "                if all_text[end] in WORDS_BREAKS:\n",
    "                    last_word = end\n",
    "                end += 1\n",
    "            if end < length and all_text[end] not in SENTENCE_ENDINGS and last_word > 0:\n",
    "                end = last_word # Fall back to at least keeping a whole word\n",
    "        if end < length:\n",
    "            end += 1\n",
    "\n",
    "        # Try to find the start of the sentence or at least a whole word boundary\n",
    "        last_word = -1\n",
    "        while start > 0 and start > end - MAX_SECTION_LENGTH - 2 * SENTENCE_SEARCH_LIMIT and all_text[start] not in SENTENCE_ENDINGS:\n",
    "            if all_text[start] in WORDS_BREAKS:\n",
    "                last_word = start\n",
    "            start -= 1\n",
    "        if all_text[start] not in SENTENCE_ENDINGS and last_word > 0:\n",
    "            start = last_word\n",
    "        if start > 0:\n",
    "            start += 1\n",
    "\n",
    "        section_text = all_text[start:end]\n",
    "        yield (section_text, find_page(start))\n",
    "\n",
    "        last_table_start = section_text.rfind(\"<table\")\n",
    "        if (last_table_start > 2 * SENTENCE_SEARCH_LIMIT and last_table_start > section_text.rfind(\"</table\")):\n",
    "            # If the section ends with an unclosed table, we need to start the next section with the table.\n",
    "            # If table starts inside SENTENCE_SEARCH_LIMIT, we ignore it, as that will cause an infinite loop for tables longer than MAX_SECTION_LENGTH\n",
    "            # If last table starts inside SECTION_OVERLAP, keep overlapping\n",
    "            start = min(end - SECTION_OVERLAP, start + last_table_start)\n",
    "        else:\n",
    "            start = end - SECTION_OVERLAP\n",
    "        \n",
    "    if start + SECTION_OVERLAP < end:\n",
    "        yield (all_text[start:end], find_page(start))"
   ]
  },
  {
   "cell_type": "code",
   "execution_count": 9,
   "metadata": {},
   "outputs": [],
   "source": [
    "sections = []\n",
    "file_id = filename_to_id(filename)\n",
    "for i, (content, pagenum) in enumerate(split_text(page_map)):\n",
    "    section = {\n",
    "        \"id\": f\"{file_id}-page-{i}\",\n",
    "        \"content\": content,\n",
    "        \"embedding\": compute_embedding(content),\n",
    "        \"sourcepage\": os.path.splitext(os.path.basename(filename))[0] + f\"-{pagenum}\" + \".pdf\",\n",
    "        \"sourcefile\": filename\n",
    "    }\n",
    "    sections.append(section)"
   ]
  },
  {
   "cell_type": "markdown",
   "metadata": {},
   "source": [
    "## Index sections\n",
    "\n",
    "- Uploading the sections to the search index we created earlier"
   ]
  },
  {
   "cell_type": "code",
   "execution_count": 10,
   "metadata": {},
   "outputs": [
    {
     "name": "stdout",
     "output_type": "stream",
     "text": [
      "\tIndexed 28 sections, 28 succeeded\n"
     ]
    }
   ],
   "source": [
    "search_client = SearchClient(endpoint=search_endpoint,\n",
    "                                    index_name=os.getenv(\"AZURE_SEARCH_INDEX\"),\n",
    "                                    credential=search_creds)\n",
    "i = 0\n",
    "batch = []\n",
    "#index 1000 sections at a time\n",
    "for s in sections:\n",
    "    batch.append(s)\n",
    "    i += 1\n",
    "    if i % 1000 == 0:\n",
    "        results = search_client.upload_documents(documents=batch)\n",
    "        succeeded = sum([1 for r in results if r.succeeded])\n",
    "        print(f\"\\tIndexed {len(results)} sections, {succeeded} succeeded\")\n",
    "        batch = []\n",
    "        \n",
    "#index the remaining sections\n",
    "if len(batch) > 0:\n",
    "    results = search_client.upload_documents(documents=batch)\n",
    "    succeeded = sum([1 for r in results if r.succeeded])\n",
    "    print(f\"\\tIndexed {len(results)} sections, {succeeded} succeeded\")\n"
   ]
  },
  {
   "cell_type": "markdown",
   "metadata": {},
   "source": [
    "## Split PDF into single page Blobs\n",
    "\n",
    "- Creating a PDF file for each page of the document so that we can cited individual pages in the future"
   ]
  },
  {
   "cell_type": "code",
   "execution_count": 11,
   "metadata": {},
   "outputs": [
    {
     "name": "stdout",
     "output_type": "stream",
     "text": [
      "\tCreating blob for page 0 -> The_Innovation_Wings-0.pdf\n",
      "\tCreating blob for page 1 -> The_Innovation_Wings-1.pdf\n",
      "\tCreating blob for page 2 -> The_Innovation_Wings-2.pdf\n",
      "\tCreating blob for page 3 -> The_Innovation_Wings-3.pdf\n",
      "\tCreating blob for page 4 -> The_Innovation_Wings-4.pdf\n",
      "\tCreating blob for page 5 -> The_Innovation_Wings-5.pdf\n",
      "\tCreating blob for page 6 -> The_Innovation_Wings-6.pdf\n",
      "\tCreating blob for page 7 -> The_Innovation_Wings-7.pdf\n",
      "\tCreating blob for page 8 -> The_Innovation_Wings-8.pdf\n",
      "\tCreating blob for page 9 -> The_Innovation_Wings-9.pdf\n",
      "\tCreating blob for page 10 -> The_Innovation_Wings-10.pdf\n"
     ]
    }
   ],
   "source": [
    "reader = PdfReader(filename)\n",
    "pages = reader.pages\n",
    "for i in range(len(pages)):\n",
    "    blob_name = os.path.splitext(os.path.basename(filename))[0] + f\"-{i}\" + \".pdf\"\n",
    "    print(f\"\\tCreating blob for page {i} -> {blob_name}\")\n",
    "    writer = PdfWriter()\n",
    "    writer.add_page(pages[i])\n",
    "    writer.write(\"../database/\"+blob_name)\n",
    "    writer.write(\"../app/backend/static/database/\"+blob_name)\n",
    "    writer.write(\"../app/frontend/public/database/\"+blob_name)\n",
    "    writer.close()"
   ]
  },
  {
   "cell_type": "markdown",
   "metadata": {},
   "source": [
    "## Searching the Index\n",
    "\n",
    "- Searching the vector index using kNN"
   ]
  },
  {
   "cell_type": "code",
   "execution_count": 12,
   "metadata": {},
   "outputs": [
    {
     "name": "stdout",
     "output_type": "stream",
     "text": [
      "The_Innovation_Wings-2.pdf: life, with three fundamental functionalities that do not exist or not well supported by (smart) walkers in the market: smart walking assistance; falling prevention and support; autonomous mobility. A set of mechanical, control, sensory, and AI technologies is being developed including: (1) novel walker mechanical structure with omnidirectional mobility and outrigger mechanisms; (2) dual-mode actuation and control for walking/standing support and fall prevention/ recovery; (3) multimodal sensory data collection through soft sensory skin, and data processing on device and in the cloud, for event detection and control such as user front following and fall detection; (4) sound-source localization for elderly localisation and auto-navigation of walker. SIG – BREED Robotics  BREED is a student group committed to developing and promoting bio-inspired technology. Our flagship VAYU project – the world’s fastest robotic fish – and our upcoming initiatives such as our robotic dog aim to educate and enhance awareness in the general student body. Using designs perfected by millions of years of natural evolution, we adapt selected features into increasing effectiveness of man-made robots.\n",
      "The_Innovation_Wings-1.pdf:  Not only to gain a lot of hands-on experience, by joining us, you could improve your mechanical skills and learn and apply electrical and computer science skills. With the support of Innovation Wing, we plan to join competitions to test our knowledge and skills, also to learn from other teams and gain valuable experience. In 2022, the team build the system based on the rules of AUVSI SUAS 2023. The AUVSI SUAS Competition is a yearly event, designed to stimulate interest in UAS technologies and careers, and to engage students in a challenging UAS mission. SIG – Smart Elderly Walker  This project aims to develop the set of technologies to achieve convenient-to-use mobility support for daily use of the elderly. In this project, we are developing a smart elderly walker which is intended to play an active role in an elderly person’s daily life, with three fundamental functionalities that do not exist or not well supported by (smart) walkers in the market: smart walking assistance; falling prevention and support; autonomous mobility.\n",
      "The_Innovation_Wings-2.pdf:  Using designs perfected by millions of years of natural evolution, we adapt selected features into increasing effectiveness of man-made robots. We aim to establish a hub based in the Innovation Wing where this development can take root in the local community, increasing awareness and interest while promoting scientific innovation: this will be done through outreach projects, educational initiatives, as well as the continuation of various bio-inspired initiatives under BREED. SIG – HKU RoboMaster  Robomaster is a national robotics competition for university students, hosted by DJI. The project is about forming a team to design various types of smart robots which can engage in face-to-face, videogame-style battles. The preparation process involves the knowledge in the following disciplines: mechanical and hardware design, control theory application, computer vision and smart algorithm, technical management. The ultimate purpose of the project is to develop the skills, quality and team spirit of engineering students that can be beneficial in their future career.\n"
     ]
    }
   ],
   "source": [
    "query = \" \" #your query keywords\n",
    "query_vector = compute_embedding(query)\n",
    "\n",
    "def nonewlines(s: str) -> str:\n",
    "    return s.replace(' ', ' ').replace('\\r', ' ')\n",
    "\n",
    "r = search_client.search(query, \n",
    "                        top=3, \n",
    "                        vector=query_vector, \n",
    "                        top_k=50, \n",
    "                        vector_fields=\"embedding\")\n",
    "\n",
    "results = [doc[\"sourcepage\"] + \": \" + nonewlines(doc[\"content\"]) for doc in r]\n",
    "\n",
    "for result in results:\n",
    "    print(result)"
   ]
  }
 ],
 "metadata": {
  "kernelspec": {
   "display_name": "base",
   "language": "python",
   "name": "python3"
  },
  "language_info": {
   "codemirror_mode": {
    "name": "ipython",
    "version": 3
   },
   "file_extension": ".py",
   "mimetype": "text/x-python",
   "name": "python",
   "nbconvert_exporter": "python",
   "pygments_lexer": "ipython3",
   "version": "3.10.9"
  },
  "orig_nbformat": 4
 },
 "nbformat": 4,
 "nbformat_minor": 2
}
