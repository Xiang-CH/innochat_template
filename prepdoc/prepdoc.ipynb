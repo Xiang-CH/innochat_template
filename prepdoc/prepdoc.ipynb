{
 "cells": [
  {
   "cell_type": "markdown",
   "metadata": {},
   "source": [
    "## Install Dependencies"
   ]
  },
  {
   "cell_type": "code",
   "execution_count": 2,
   "metadata": {},
   "outputs": [
    {
     "name": "stdout",
     "output_type": "stream",
     "text": [
      "Requirement already satisfied: pypdf==3.9.0 in /Users/chenxiang/opt/anaconda3/envs/azure/lib/python3.11/site-packages (from -r requirements.txt (line 1)) (3.9.0)\n",
      "Requirement already satisfied: azure-identity==1.13.0 in /Users/chenxiang/opt/anaconda3/envs/azure/lib/python3.11/site-packages (from -r requirements.txt (line 2)) (1.13.0)\n",
      "Requirement already satisfied: azure-search-documents==11.4.0b6 in /Users/chenxiang/opt/anaconda3/envs/azure/lib/python3.11/site-packages (from -r requirements.txt (line 3)) (11.4.0b6)\n",
      "Requirement already satisfied: azure-ai-formrecognizer==3.2.1 in /Users/chenxiang/opt/anaconda3/envs/azure/lib/python3.11/site-packages (from -r requirements.txt (line 4)) (3.2.1)\n",
      "Requirement already satisfied: azure-storage-blob==12.14.1 in /Users/chenxiang/opt/anaconda3/envs/azure/lib/python3.11/site-packages (from -r requirements.txt (line 5)) (12.14.1)\n",
      "Requirement already satisfied: openai[datalib]==0.27.8 in /Users/chenxiang/opt/anaconda3/envs/azure/lib/python3.11/site-packages (from -r requirements.txt (line 6)) (0.27.8)\n",
      "Requirement already satisfied: tenacity==8.2.2 in /Users/chenxiang/opt/anaconda3/envs/azure/lib/python3.11/site-packages (from -r requirements.txt (line 7)) (8.2.2)\n",
      "Requirement already satisfied: azure-core<2.0.0,>=1.11.0 in /Users/chenxiang/opt/anaconda3/envs/azure/lib/python3.11/site-packages (from azure-identity==1.13.0->-r requirements.txt (line 2)) (1.26.4)\n",
      "Requirement already satisfied: cryptography>=2.5 in /Users/chenxiang/opt/anaconda3/envs/azure/lib/python3.11/site-packages (from azure-identity==1.13.0->-r requirements.txt (line 2)) (39.0.1)\n",
      "Requirement already satisfied: msal<2.0.0,>=1.20.0 in /Users/chenxiang/opt/anaconda3/envs/azure/lib/python3.11/site-packages (from azure-identity==1.13.0->-r requirements.txt (line 2)) (1.22.0)\n",
      "Requirement already satisfied: msal-extensions<2.0.0,>=0.3.0 in /Users/chenxiang/opt/anaconda3/envs/azure/lib/python3.11/site-packages (from azure-identity==1.13.0->-r requirements.txt (line 2)) (1.0.0)\n",
      "Requirement already satisfied: six>=1.12.0 in /Users/chenxiang/opt/anaconda3/envs/azure/lib/python3.11/site-packages (from azure-identity==1.13.0->-r requirements.txt (line 2)) (1.16.0)\n",
      "Requirement already satisfied: azure-common~=1.1 in /Users/chenxiang/opt/anaconda3/envs/azure/lib/python3.11/site-packages (from azure-search-documents==11.4.0b6->-r requirements.txt (line 3)) (1.1.28)\n",
      "Requirement already satisfied: isodate>=0.6.0 in /Users/chenxiang/opt/anaconda3/envs/azure/lib/python3.11/site-packages (from azure-search-documents==11.4.0b6->-r requirements.txt (line 3)) (0.6.1)\n",
      "Requirement already satisfied: msrest>=0.6.21 in /Users/chenxiang/opt/anaconda3/envs/azure/lib/python3.11/site-packages (from azure-ai-formrecognizer==3.2.1->-r requirements.txt (line 4)) (0.7.1)\n",
      "Requirement already satisfied: typing-extensions>=4.0.1 in /Users/chenxiang/opt/anaconda3/envs/azure/lib/python3.11/site-packages (from azure-ai-formrecognizer==3.2.1->-r requirements.txt (line 4)) (4.6.3)\n",
      "Requirement already satisfied: requests>=2.20 in /Users/chenxiang/opt/anaconda3/envs/azure/lib/python3.11/site-packages (from openai[datalib]==0.27.8->-r requirements.txt (line 6)) (2.29.0)\n",
      "Requirement already satisfied: tqdm in /Users/chenxiang/opt/anaconda3/envs/azure/lib/python3.11/site-packages (from openai[datalib]==0.27.8->-r requirements.txt (line 6)) (4.65.0)\n",
      "Requirement already satisfied: aiohttp in /Users/chenxiang/opt/anaconda3/envs/azure/lib/python3.11/site-packages (from openai[datalib]==0.27.8->-r requirements.txt (line 6)) (3.8.3)\n",
      "Requirement already satisfied: numpy in /Users/chenxiang/opt/anaconda3/envs/azure/lib/python3.11/site-packages (from openai[datalib]==0.27.8->-r requirements.txt (line 6)) (1.25.0)\n",
      "Requirement already satisfied: pandas>=1.2.3 in /Users/chenxiang/opt/anaconda3/envs/azure/lib/python3.11/site-packages (from openai[datalib]==0.27.8->-r requirements.txt (line 6)) (1.5.3)\n",
      "Requirement already satisfied: pandas-stubs>=1.1.0.11 in /Users/chenxiang/opt/anaconda3/envs/azure/lib/python3.11/site-packages (from openai[datalib]==0.27.8->-r requirements.txt (line 6)) (1.5.3.230203)\n",
      "Requirement already satisfied: openpyxl>=3.0.7 in /Users/chenxiang/opt/anaconda3/envs/azure/lib/python3.11/site-packages (from openai[datalib]==0.27.8->-r requirements.txt (line 6)) (3.0.10)\n",
      "Requirement already satisfied: cffi>=1.12 in /Users/chenxiang/opt/anaconda3/envs/azure/lib/python3.11/site-packages (from cryptography>=2.5->azure-identity==1.13.0->-r requirements.txt (line 2)) (1.15.1)\n",
      "Requirement already satisfied: PyJWT[crypto]<3,>=1.0.0 in /Users/chenxiang/opt/anaconda3/envs/azure/lib/python3.11/site-packages (from msal<2.0.0,>=1.20.0->azure-identity==1.13.0->-r requirements.txt (line 2)) (2.4.0)\n",
      "Requirement already satisfied: portalocker<3,>=1.0 in /Users/chenxiang/opt/anaconda3/envs/azure/lib/python3.11/site-packages (from msal-extensions<2.0.0,>=0.3.0->azure-identity==1.13.0->-r requirements.txt (line 2)) (2.3.0)\n",
      "Requirement already satisfied: requests-oauthlib>=0.5.0 in /Users/chenxiang/opt/anaconda3/envs/azure/lib/python3.11/site-packages (from msrest>=0.6.21->azure-ai-formrecognizer==3.2.1->-r requirements.txt (line 4)) (1.3.0)\n",
      "Requirement already satisfied: certifi>=2017.4.17 in /Users/chenxiang/opt/anaconda3/envs/azure/lib/python3.11/site-packages (from msrest>=0.6.21->azure-ai-formrecognizer==3.2.1->-r requirements.txt (line 4)) (2023.7.22)\n",
      "Requirement already satisfied: et_xmlfile in /Users/chenxiang/opt/anaconda3/envs/azure/lib/python3.11/site-packages (from openpyxl>=3.0.7->openai[datalib]==0.27.8->-r requirements.txt (line 6)) (1.1.0)\n",
      "Requirement already satisfied: python-dateutil>=2.8.1 in /Users/chenxiang/opt/anaconda3/envs/azure/lib/python3.11/site-packages (from pandas>=1.2.3->openai[datalib]==0.27.8->-r requirements.txt (line 6)) (2.8.2)\n",
      "Requirement already satisfied: pytz>=2020.1 in /Users/chenxiang/opt/anaconda3/envs/azure/lib/python3.11/site-packages (from pandas>=1.2.3->openai[datalib]==0.27.8->-r requirements.txt (line 6)) (2022.7)\n",
      "Requirement already satisfied: types-pytz>=2022.1.1 in /Users/chenxiang/opt/anaconda3/envs/azure/lib/python3.11/site-packages (from pandas-stubs>=1.1.0.11->openai[datalib]==0.27.8->-r requirements.txt (line 6)) (2022.4.0.0)\n",
      "Requirement already satisfied: charset-normalizer<4,>=2 in /Users/chenxiang/opt/anaconda3/envs/azure/lib/python3.11/site-packages (from requests>=2.20->openai[datalib]==0.27.8->-r requirements.txt (line 6)) (2.0.4)\n",
      "Requirement already satisfied: idna<4,>=2.5 in /Users/chenxiang/opt/anaconda3/envs/azure/lib/python3.11/site-packages (from requests>=2.20->openai[datalib]==0.27.8->-r requirements.txt (line 6)) (3.4)\n",
      "Requirement already satisfied: urllib3<1.27,>=1.21.1 in /Users/chenxiang/opt/anaconda3/envs/azure/lib/python3.11/site-packages (from requests>=2.20->openai[datalib]==0.27.8->-r requirements.txt (line 6)) (1.26.16)\n",
      "Requirement already satisfied: attrs>=17.3.0 in /Users/chenxiang/opt/anaconda3/envs/azure/lib/python3.11/site-packages (from aiohttp->openai[datalib]==0.27.8->-r requirements.txt (line 6)) (22.1.0)\n",
      "Requirement already satisfied: multidict<7.0,>=4.5 in /Users/chenxiang/opt/anaconda3/envs/azure/lib/python3.11/site-packages (from aiohttp->openai[datalib]==0.27.8->-r requirements.txt (line 6)) (6.0.2)\n",
      "Requirement already satisfied: async-timeout<5.0,>=4.0.0a3 in /Users/chenxiang/opt/anaconda3/envs/azure/lib/python3.11/site-packages (from aiohttp->openai[datalib]==0.27.8->-r requirements.txt (line 6)) (4.0.2)\n",
      "Requirement already satisfied: yarl<2.0,>=1.0 in /Users/chenxiang/opt/anaconda3/envs/azure/lib/python3.11/site-packages (from aiohttp->openai[datalib]==0.27.8->-r requirements.txt (line 6)) (1.8.1)\n",
      "Requirement already satisfied: frozenlist>=1.1.1 in /Users/chenxiang/opt/anaconda3/envs/azure/lib/python3.11/site-packages (from aiohttp->openai[datalib]==0.27.8->-r requirements.txt (line 6)) (1.3.3)\n",
      "Requirement already satisfied: aiosignal>=1.1.2 in /Users/chenxiang/opt/anaconda3/envs/azure/lib/python3.11/site-packages (from aiohttp->openai[datalib]==0.27.8->-r requirements.txt (line 6)) (1.2.0)\n",
      "Requirement already satisfied: pycparser in /Users/chenxiang/opt/anaconda3/envs/azure/lib/python3.11/site-packages (from cffi>=1.12->cryptography>=2.5->azure-identity==1.13.0->-r requirements.txt (line 2)) (2.21)\n",
      "Requirement already satisfied: oauthlib>=3.0.0 in /Users/chenxiang/opt/anaconda3/envs/azure/lib/python3.11/site-packages (from requests-oauthlib>=0.5.0->msrest>=0.6.21->azure-ai-formrecognizer==3.2.1->-r requirements.txt (line 4)) (3.2.2)\n",
      "Note: you may need to restart the kernel to use updated packages.\n"
     ]
    }
   ],
   "source": [
    "%pip install -r requirements.txt"
   ]
  },
  {
   "cell_type": "markdown",
   "metadata": {},
   "source": [
    "## Import and Setup Credentials"
   ]
  },
  {
   "cell_type": "code",
   "execution_count": 3,
   "metadata": {},
   "outputs": [],
   "source": [
    "import argparse\n",
    "import base64\n",
    "import glob\n",
    "import html\n",
    "import io\n",
    "import os\n",
    "import re\n",
    "import time\n",
    "\n",
    "import openai\n",
    "from azure.core.credentials import AzureKeyCredential\n",
    "from azure.identity import AzureDeveloperCliCredential\n",
    "from azure.search.documents import SearchClient\n",
    "from azure.search.documents.indexes import SearchIndexClient\n",
    "from azure.search.documents.indexes.models import *\n",
    "from azure.storage.blob import BlobServiceClient\n",
    "from pypdf import PdfReader, PdfWriter\n",
    "from tenacity import retry, stop_after_attempt, wait_random_exponential\n",
    "from dotenv import load_dotenv"
   ]
  },
  {
   "cell_type": "code",
   "execution_count": null,
   "metadata": {},
   "outputs": [],
   "source": [
    "load_dotenv(dotenv_path=\"../.env\")\n",
    "openai.api_type = \"azure\"\n",
    "openai.api_key = os.getenv(\"AZURE_OPENAI_KEY\")"
   ]
  },
  {
   "cell_type": "markdown",
   "metadata": {},
   "source": [
    "## Setup search Index"
   ]
  },
  {
   "cell_type": "code",
   "execution_count": null,
   "metadata": {},
   "outputs": [],
   "source": [
    "search_endpoint = f\"https://{os.getenv('AZURE_SEARCH_ENDPOINT')}.search.windows.net/\"\n",
    "search_creds = AzureKeyCredential(os.getenv(\"AZURE_SEARCH_KEY\"))\n",
    "index_client = SearchIndexClient(endpoint= search_endpoint, credential=search_creds)"
   ]
  },
  {
   "cell_type": "code",
   "execution_count": null,
   "metadata": {},
   "outputs": [],
   "source": [
    "index = SearchIndex(\n",
    "            name=os.getenv(\"AZURE_SEARCH_INDEX\"),\n",
    "            fields=[\n",
    "                SimpleField(name=\"id\", type=\"Edm.String\", key=True),\n",
    "                SearchableField(name=\"content\", type=\"Edm.String\", analyzer_name=\"en.microsoft\"),\n",
    "                SearchField(name=\"embedding\", type=SearchFieldDataType.Collection(SearchFieldDataType.Single), \n",
    "                            hidden=False, searchable=True, filterable=False, sortable=False, facetable=False,\n",
    "                            vector_search_dimensions=1536, vector_search_configuration=\"default\"),\n",
    "                SimpleField(name=\"sourcepage\", type=\"Edm.String\", filterable=True, facetable=True),\n",
    "                SimpleField(name=\"sourcefile\", type=\"Edm.String\", filterable=True, facetable=True)\n",
    "            ],\n",
    "            semantic_settings=SemanticSettings(\n",
    "                configurations=[SemanticConfiguration(\n",
    "                    name='default',\n",
    "                    prioritized_fields=PrioritizedFields(title_field=None, prioritized_content_fields=[SemanticField(field_name='content')]))]),\n",
    "                vector_search=VectorSearch(\n",
    "                    algorithm_configurations=[\n",
    "                        VectorSearchAlgorithmConfiguration(\n",
    "                            name=\"default\",\n",
    "                            kind=\"hnsw\",\n",
    "                            hnsw_parameters=HnswParameters(metric=\"cosine\") \n",
    "                        )\n",
    "                    ]\n",
    "                )        \n",
    "            )\n",
    "index_client.create_index(index)"
   ]
  },
  {
   "cell_type": "markdown",
   "metadata": {},
   "source": [
    "## Extract data from documents using form recognizer"
   ]
  },
  {
   "cell_type": "code",
   "execution_count": null,
   "metadata": {},
   "outputs": [],
   "source": [
    "def get_document_text(filename):\n",
    "    offset = 0\n",
    "    page_map = []\n",
    "    \n",
    "    print(f\"Extracting text from '{filename}' using PdfReader\")\n",
    "    \n",
    "    reader = PdfReader(filename)\n",
    "    pages = reader.pages\n",
    "    for page_num, p in enumerate(pages):\n",
    "        page_text = p.extract_text()\n",
    "        page_map.append((page_num, offset, page_text))\n",
    "        offset += len(page_text)\n",
    "    \n",
    "    return page_map"
   ]
  },
  {
   "cell_type": "markdown",
   "metadata": {},
   "source": [
    "## Section of extracted text"
   ]
  },
  {
   "cell_type": "code",
   "execution_count": 4,
   "metadata": {},
   "outputs": [
    {
     "data": {
      "text/plain": [
       "'file-test_pdf-746573742E706466'"
      ]
     },
     "execution_count": 4,
     "metadata": {},
     "output_type": "execute_result"
    }
   ],
   "source": [
    "def filename_to_id(filename): \n",
    "    filename_ascii = re.sub(\"[^0-9a-zA-Z_-]\", \"_\", filename)\n",
    "    filename_hash = base64.b16encode(filename.encode('utf-8')).decode('ascii')\n",
    "    return f\"file-{filename_ascii}-{filename_hash}\"\n",
    "\n",
    "filename_to_id(\"test.pdf\")"
   ]
  }
 ],
 "metadata": {
  "kernelspec": {
   "display_name": "base",
   "language": "python",
   "name": "python3"
  },
  "language_info": {
   "codemirror_mode": {
    "name": "ipython",
    "version": 3
   },
   "file_extension": ".py",
   "mimetype": "text/x-python",
   "name": "python",
   "nbconvert_exporter": "python",
   "pygments_lexer": "ipython3",
   "version": "3.11.4"
  },
  "orig_nbformat": 4
 },
 "nbformat": 4,
 "nbformat_minor": 2
}
