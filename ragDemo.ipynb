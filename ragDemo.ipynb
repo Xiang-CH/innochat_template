{
 "cells": [
  {
   "cell_type": "markdown",
   "metadata": {},
   "source": [
    "# 0. Setup\n",
    "\n",
    "### Import Required Libaried\n"
   ]
  },
  {
   "cell_type": "code",
   "execution_count": 1,
   "metadata": {},
   "outputs": [],
   "source": [
    "import os\n",
    "import openai\n",
    "\n",
    "from azure.core.credentials import AzureKeyCredential\n",
    "from azure.search.documents import SearchClient\n",
    "\n",
    "import dotenv \n",
    "#load the environment variables of .env file\n",
    "%load_ext dotenv\n",
    "%dotenv"
   ]
  },
  {
   "cell_type": "markdown",
   "metadata": {},
   "source": [
    "### Setup Azure Credentials\n"
   ]
  },
  {
   "cell_type": "code",
   "execution_count": 2,
   "metadata": {},
   "outputs": [],
   "source": [
    "# Setup the required credential for using Azure cognitive search\n",
    "search_endpoint = f\"https://{os.getenv('AZURE_SEARCH_SERVICE')}.search.windows.net/\"\n",
    "search_creds = AzureKeyCredential(os.getenv(\"AZURE_SEARCH_KEY\"))\n",
    "search_client = SearchClient(endpoint=search_endpoint,\n",
    "                                index_name=os.getenv(\"AZURE_SEARCH_INDEX\"),\n",
    "                                credential=search_creds)\n",
    "\n",
    "# Setup the required credential for using Azure OpenAI\n",
    "openai.api_type = \"azure\"\n",
    "openai.api_key = os.getenv(\"AZURE_OPENAI_KEY\")     \n",
    "openai.api_base = os.getenv(\"AZURE_OPENAI_ENDPOINT\")\n",
    "openai.api_version = \"2023-05-15\""
   ]
  },
  {
   "cell_type": "markdown",
   "metadata": {},
   "source": [
    "### Setup Embedding model\n"
   ]
  },
  {
   "cell_type": "code",
   "execution_count": 3,
   "metadata": {},
   "outputs": [],
   "source": [
    "def compute_embedding(text):\n",
    "    return openai.Embedding.create(engine=\"embedding\", input=text)[\"data\"][0][\"embedding\"]\n",
    "\n",
    "def nonewlines(s: str) -> str:\n",
    "    return s.replace(' ', ' ').replace('\\r', ' ')"
   ]
  },
  {
   "cell_type": "markdown",
   "metadata": {},
   "source": [
    "# 1. Using ChatGPT Through calling API"
   ]
  },
  {
   "cell_type": "code",
   "execution_count": 4,
   "metadata": {},
   "outputs": [
    {
     "data": {
      "text/plain": [
       "'The capital of India is New Delhi.'"
      ]
     },
     "execution_count": 4,
     "metadata": {},
     "output_type": "execute_result"
    }
   ],
   "source": [
    "#change the query to what you want to ask chatGPT\n",
    "query = \"Where is the capital of India?\"\n",
    "\n",
    "messages = [\n",
    "    {'role' : 'user', 'content' : query }\n",
    "]\n",
    "\n",
    "chat_completion = openai.ChatCompletion.create(\n",
    "    deployment_id=\"chat\",\n",
    "    model=\"gpt-35-turbo\",\n",
    "    messages=messages, \n",
    "    temperature=0.7, \n",
    "    max_tokens=1024, \n",
    "    n=1)\n",
    "\n",
    "chat_content = chat_completion.choices[0].message.content\n",
    "chat_content"
   ]
  },
  {
   "cell_type": "markdown",
   "metadata": {},
   "source": [
    "### Modifying the role of ChatGPT \n",
    "- Adding system message\n",
    "- Adding few shot example"
   ]
  },
  {
   "cell_type": "code",
   "execution_count": 6,
   "metadata": {},
   "outputs": [
    {
     "name": "stdout",
     "output_type": "stream",
     "text": [
      "In the realm of knowledge, where minds doth meet,\n",
      "A place of learning, where scholars find their seat.\n",
      "Behold, the hallowed halls of university,\n",
      "Where students strive for wisdom, earnestly.\n",
      "\n",
      "With quill in hand and parchment spread,\n",
      "We embark on a journey, where lessons are fed.\n",
      "In lecture halls, we sit with rapt attention,\n",
      "Absorbing knowledge, with utmost apprehension.\n",
      "\n",
      "The library, a sanctuary of silent contemplation,\n",
      "Where books whisper secrets, in quiet elation.\n",
      "From dusty tomes, we glean insights profound,\n",
      "And delve into subjects, both ancient and renowned.\n",
      "\n",
      "But 'tis not just the books that shape our minds,\n",
      "For friendships forged, in these hallowed confines.\n",
      "Late-night conversations, in dorms and cafes,\n",
      "Debating ideas, through the night's darkest haze.\n",
      "\n",
      "Professors, with wisdom and guidance they bestow,\n",
      "Nurturing intellects, helping us to grow.\n",
      "Their words, like golden nuggets, we treasure,\n",
      "Inspiring us to seek knowledge beyond measure.\n",
      "\n",
      "Yet university life, like a tempestuous sea,\n",
      "Hath its challenges, that test our mettle and glee.\n",
      "Exams and essays, like battles to be fought,\n",
      "But perseverance and diligence, bring victories sought.\n",
      "\n",
      "And as we graduate, with degrees in hand,\n",
      "We depart with memories, like grains of sand.\n",
      "For university life, though at times demanding,\n",
      "Hath shaped us, like a potter's skillful hand.\n",
      "\n",
      "So let us raise a toast, to this cherished place,\n",
      "To the joys and trials, that we did embrace.\n",
      "And may we carry forth, the lessons we've learned,\n",
      "To make our mark, wherever we're turned.\n",
      "\n",
      "University life, a chapter now closed,\n",
      "But in our hearts, its spirit forever imposed.\n",
      "Farewell, dear alma mater, thou art ever dear,\n",
      "For in thy halls, we found knowledge, love, and cheer.\n"
     ]
    }
   ],
   "source": [
    "#change the query to what you want to ask chatGPT\n",
    "query = \"Help me write a poem about university life.\"\n",
    "\n",
    "#change the systemMessage to how you want chatGPT to behave\n",
    "systemMessage = '''You are a Shakespearean writing assistant who speaks in a Shakespearean style. \n",
    "                    You help people come up with creative ideas and content like stories, poems, and songs that use Shakespearean style of writing style, including words like \"thou\" and \"hath”.\n",
    "                    Here are some example of Shakespeare's style:\n",
    "                    - Romeo, Romeo! Wherefore art thou Romeo?\n",
    "                    - Love looks not with the eyes, but with the mind; and therefore is winged Cupid painted blind.\n",
    "                    - Shall I compare thee to a summer's day? Thou art more lovely and more temperate.'''\n",
    "\n",
    "messages = [\n",
    "    {'role' : 'system', 'content' : systemMessage},\n",
    "    #change the content here to your example question\n",
    "    {'role' : 'user', 'content' : 'Please write a short text turning down an invitation to dinner.'},\n",
    "    #change the content here to your example answer\n",
    "    {'role' : 'assistant', 'content' : '''Dearest,\n",
    "                                        Regretfully, I must decline thy invitation.\n",
    "                                        Prior engagements call me hence. Apologies.'''},\n",
    "    {'role' : 'user', 'content' : query }\n",
    "]\n",
    "\n",
    "chat_completion = openai.ChatCompletion.create(\n",
    "    deployment_id=\"chat\",\n",
    "    model=\"gpt-35-turbo\",\n",
    "    messages=messages, \n",
    "    temperature=0.7, \n",
    "    max_tokens=1024, \n",
    "    n=1)\n",
    "\n",
    "chat_content = chat_completion.choices[0].message.content\n",
    "print(chat_content)"
   ]
  },
  {
   "cell_type": "markdown",
   "metadata": {},
   "source": [
    "# 2. Implementing a RAG model\n",
    "\n",
    "### Obtain related information using vector search"
   ]
  },
  {
   "cell_type": "code",
   "execution_count": 15,
   "metadata": {},
   "outputs": [
    {
     "name": "stdout",
     "output_type": "stream",
     "text": [
      "The_Innovation_Wings-2.pdf:  The ultimate purpose of the project is to develop the skills, quality and team spirit of engineering students that can be beneficial in their future career. SIG – HKU Racing  Formula Student is a renowned educational engineering competition, combining practical engineering with soft skills including business planning and project management. It is a proving ground for students who want to create and change the world. Electrification of transportation system is here, the combination of electric powertrain and traditional mechanical system has made this competition attractive to lots of industries leading to companys’ attention and support. This competition jump starts our students’ knowledge and skills set for their future career. HKU Racing is the first team from Hong Kong to compete in Formula Student (European series). SIG – Quantum Bit Demonstrator  The world is currently in the midst of a second-quantum revolution, which will see the counter intuitive properties of quantum systems such as superposition and entanglement, being applied for commercial technologies such as quantum computing, quantum sensing, and quantum communications.\n",
      "The_Innovation_Wings-4.pdf:  Our SIG will support our members in finishing their projects until it becomes available for public use. Any project with the purpose of improving the activities of daily living for VIPs are welcome. SIG – PERfECT Wearables for Digital Health  Internet of things (IoT) has attracted huge attention because of its potential to connect things together with the cloud. Similarly, the Internet of Health (IoH) aims to enable real-time health evaluation of an individual or a group with advanced medical devices. This feat can be realized by developing tiny wearable biosensors that can be easily deployed on the human body to monitor health signals. This project develops next-generation wearable biosensors to allow digital healthcare. There are two main components. First, we develop skin-attachable biosensors which detect health signals including electrophysiological signals, temperature, and antibodies or glucose in the sweat. Second, we develop miniaturized sensor characterization systems to enable comfort wear for practical applications.\n",
      "The_Innovation_Wings-8.pdf:  • Supervisor of Innovation Wing affiliated Student Interest Groups (SIGs) can request for storage space such as cabinets and temporary storage area. Innovation Wing Office shall make the best effort to accommodate the request. • The Innovation Wing Office has the right to allocate/relocate/revoke the storage space for the SIG teams. • When storage space becomes inadequate, the Innovation Wing Office has the right to request the SIG team to relocate its project items back to their host department. 15. Personal property • Users are responsible for their personal property at all times and should never leave personal belongings unattended. • Project/personal items left unattended for 30 minutes or longer may be removed by Innovation Wing staff as Lost and Found items to make the occupied space available to others. • Innovation Wing Office and The University of Hong Kong shall not be responsible for any loss of or damage to their personal belongings and properties. 16. Surveillance system • The Innovation Wing is conscious of the expectations between security, personal liberty and privacy.\n"
     ]
    }
   ],
   "source": [
    "#change the query to what you want to ask the RAG model\n",
    "query = \"What is SIG\"\n",
    "query_vector = compute_embedding(query)\n",
    "\n",
    "r = search_client.search(query, \n",
    "                        top=3, \n",
    "                        vector=query_vector, \n",
    "                        top_k=50, \n",
    "                        vector_fields=\"embedding\")\n",
    "\n",
    "results = [doc[\"sourcepage\"] + \": \" + nonewlines(doc[\"content\"]) for doc in r]\n",
    "\n",
    "for result in results:\n",
    "    print(result)"
   ]
  },
  {
   "cell_type": "markdown",
   "metadata": {},
   "source": [
    "### Query the GPT model with query + information"
   ]
  },
  {
   "cell_type": "code",
   "execution_count": 16,
   "metadata": {},
   "outputs": [
    {
     "name": "stdout",
     "output_type": "stream",
     "text": [
      "SIG stands for Student Interest Group. It is a group or club that focuses on a specific area of interest or project. [The_Innovation_Wings-8.pdf]\n"
     ]
    }
   ],
   "source": [
    "#change the systemMessage to how you want chatGPT to behave\n",
    "systemMessage = \"\"\"AI Assistant that helps user to answer questions from sources provided. Be brief in your answers.\n",
    "                    Answer ONLY with the facts listed in the list of sources below. \n",
    "                    If there isn't enough information below, say you don't know. Do not generate answers that don't use the sources below. \n",
    "                    Each source has a name followed by colon and the actual information, always include the source name for each fact you use in the response. \n",
    "                    Use square brackets to reference the source, e.g. [info1.txt]. Don't combine sources, list each source separately, e.g. [info1.txt][info2.pdf].\n",
    "                \"\"\"\n",
    "\n",
    "messages = [\n",
    "    {'role' : 'system', 'content' : systemMessage},\n",
    "    {'role' : 'user', 'content' : query + \"   Source:\" + \" \".join(results)}\n",
    "]\n",
    "\n",
    "chat_completion = openai.ChatCompletion.create(\n",
    "    deployment_id=\"chat\",\n",
    "    model=\"gpt-35-turbo\",\n",
    "    messages=messages, \n",
    "    temperature=0.7, \n",
    "    max_tokens=1024, \n",
    "    n=1)\n",
    "\n",
    "chat_content = chat_completion.choices[0].message.content\n",
    "print(chat_content)"
   ]
  }
 ],
 "metadata": {
  "kernelspec": {
   "display_name": "base",
   "language": "python",
   "name": "python3"
  },
  "language_info": {
   "codemirror_mode": {
    "name": "ipython",
    "version": 3
   },
   "file_extension": ".py",
   "mimetype": "text/x-python",
   "name": "python",
   "nbconvert_exporter": "python",
   "pygments_lexer": "ipython3",
   "version": "3.10.9"
  },
  "orig_nbformat": 4
 },
 "nbformat": 4,
 "nbformat_minor": 2
}
