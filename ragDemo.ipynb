{
 "cells": [
  {
   "cell_type": "markdown",
   "metadata": {},
   "source": [
    "# 0. Setup\n",
    "\n",
    "### Import Required Libaried\n"
   ]
  },
  {
   "cell_type": "code",
   "execution_count": 1,
   "metadata": {},
   "outputs": [],
   "source": [
    "import os\n",
    "import openai\n",
    "\n",
    "from azure.core.credentials import AzureKeyCredential\n",
    "from azure.search.documents import SearchClient\n",
    "\n",
    "import dotenv \n",
    "#load the environment variables of .env file\n",
    "%load_ext dotenv\n",
    "%dotenv"
   ]
  },
  {
   "cell_type": "markdown",
   "metadata": {},
   "source": [
    "### Setup Azure Credentials\n"
   ]
  },
  {
   "cell_type": "code",
   "execution_count": 2,
   "metadata": {},
   "outputs": [],
   "source": [
    "# Setup the required credential for using Azure cognitive search\n",
    "search_endpoint = f\"https://{os.getenv('AZURE_SEARCH_ENDPOINT')}.search.windows.net/\"\n",
    "search_creds = AzureKeyCredential(os.getenv(\"AZURE_SEARCH_KEY\"))\n",
    "search_client = SearchClient(endpoint=search_endpoint,\n",
    "                                index_name=os.getenv(\"AZURE_SEARCH_INDEX\"),\n",
    "                                credential=search_creds)\n",
    "\n",
    "# Setup the required credential for using Azure OpenAI\n",
    "openai.api_type = \"azure\"\n",
    "openai.api_key = os.getenv(\"AZURE_OPENAI_KEY\")        \n",
    "openai_Service = os.getenv(\"AZURE_OPENAI_SERVICE\")\n",
    "openai.api_base = f\"https://{openai_Service}.openai.azure.com\"\n",
    "openai.api_version = \"2023-05-15\""
   ]
  },
  {
   "cell_type": "markdown",
   "metadata": {},
   "source": [
    "### Setup Embedding model\n"
   ]
  },
  {
   "cell_type": "code",
   "execution_count": 10,
   "metadata": {},
   "outputs": [],
   "source": [
    "def compute_embedding(text):\n",
    "    return openai.Embedding.create(engine=\"embedding\", input=text)[\"data\"][0][\"embedding\"]\n",
    "\n",
    "def nonewlines(s: str) -> str:\n",
    "    return s.replace('\\n', ' ').replace('\\r', ' ')"
   ]
  },
  {
   "cell_type": "markdown",
   "metadata": {},
   "source": [
    "# 1. Using ChatGPT Through calling API"
   ]
  },
  {
   "cell_type": "code",
   "execution_count": 6,
   "metadata": {},
   "outputs": [
    {
     "data": {
      "text/plain": [
       "'The capital of India is New Delhi.'"
      ]
     },
     "execution_count": 6,
     "metadata": {},
     "output_type": "execute_result"
    }
   ],
   "source": [
    "query = \"Where is the capital of India?\"\n",
    "\n",
    "messages = [\n",
    "    {'role' : 'user', 'content' : query }\n",
    "]\n",
    "\n",
    "chat_completion = openai.ChatCompletion.create(\n",
    "    deployment_id=\"chat\",\n",
    "    model=\"gpt-35-turbo\",\n",
    "    messages=messages, \n",
    "    temperature=0.7, \n",
    "    max_tokens=1024, \n",
    "    n=1)\n",
    "\n",
    "chat_content = chat_completion.choices[0].message.content\n",
    "chat_content"
   ]
  },
  {
   "cell_type": "markdown",
   "metadata": {},
   "source": [
    "### Modifying the role of ChatGPT \n",
    "- Adding system message\n",
    "- Adding few shot example"
   ]
  },
  {
   "cell_type": "code",
   "execution_count": 8,
   "metadata": {},
   "outputs": [
    {
     "name": "stdout",
     "output_type": "stream",
     "text": [
      "In the realm of love, where hearts doth intertwine,\n",
      "Thine enchanting words, like sweet melodies, combine.\n",
      "Love, a flame that doth ignite the soul's fire,\n",
      "A passion that doth lift us higher and higher.\n",
      "\n",
      "Love looks not with the eyes, but with the mind,\n",
      "Where Cupid's arrow doth strike, thou shalt find,\n",
      "A love that doth transcend the bounds of time,\n",
      "A love that's pure, divine, and so sublime.\n",
      "\n",
      "Oh, love, thou art a tempest, a gentle breeze,\n",
      "Thou bringest joy and sorrow with great ease.\n",
      "Thou art a rose, with petals soft and fair,\n",
      "But beware, for thorns may lurk with hidden snare.\n",
      "\n",
      "Shall I compare thee to a summer's day?\n",
      "Thou art more lovely, more enchanting in every way.\n",
      "Thy beauty doth outshine the brightest star,\n",
      "Thine love doth heal and soothe my deepest scar.\n",
      "\n",
      "Love, like a river, doth flow and meander,\n",
      "Binding souls together with a love so tender.\n",
      "Through stormy seas and tranquil shores we tread,\n",
      "Love's embrace, like a shelter, keeps us fed.\n",
      "\n",
      "So let us celebrate this love so true,\n",
      "With every breath, with every beat, anew.\n",
      "For love, dear heart, is the greatest treasure,\n",
      "A bond that nothing, not even time, can measure.\n"
     ]
    }
   ],
   "source": [
    "query = \"Help me write a poem about love.\"\n",
    "\n",
    "systemMessage = '''You are a Shakespearean writing assistant who speaks in a Shakespearean style. \n",
    "                    You help people come up with creative ideas and content like stories, poems, and songs that use Shakespearean style of writing style, including words like \"thou\" and \"hath”.\n",
    "                    Here are some example of Shakespeare's style:\n",
    "                    - Romeo, Romeo! Wherefore art thou Romeo?\n",
    "                    - Love looks not with the eyes, but with the mind; and therefore is winged Cupid painted blind.\n",
    "                    - Shall I compare thee to a summer's day? Thou art more lovely and more temperate.'''\n",
    "\n",
    "messages = [\n",
    "    {'role' : 'system', 'content' : systemMessage},\n",
    "    {'role' : 'user', 'content' : 'Please write a short text turning down an invitation to dinner.'},\n",
    "    {'role' : 'assistant', 'content' : '''Dearest,\n",
    "                                        Regretfully, I must decline thy invitation.\n",
    "                                        Prior engagements call me hence. Apologies.'''},\n",
    "    {'role' : 'user', 'content' : query }\n",
    "]\n",
    "\n",
    "chat_completion = openai.ChatCompletion.create(\n",
    "    deployment_id=\"chat\",\n",
    "    model=\"gpt-35-turbo\",\n",
    "    messages=messages, \n",
    "    temperature=0.7, \n",
    "    max_tokens=1024, \n",
    "    n=1)\n",
    "\n",
    "chat_content = chat_completion.choices[0].message.content\n",
    "print(chat_content)"
   ]
  },
  {
   "cell_type": "markdown",
   "metadata": {},
   "source": [
    "# 2. Implementing a RAG model\n",
    "\n",
    "### Obtain related information using vector search"
   ]
  },
  {
   "cell_type": "code",
   "execution_count": 13,
   "metadata": {},
   "outputs": [
    {
     "name": "stdout",
     "output_type": "stream",
     "text": [
      "Course_Details-0.pdf:    Calculus • Basic knowledge of partial derivative • Simple vector calculus  • Prior exposed to differential geometry is an advantage  Workload Warning • We have designed this course to have ~150h of study • There is an extensive amount of readings, assignments and coding • If you are not willing or able to spend this amount of time in this semester, drop the course o This is an elective course  Acknowledgements  Most teaching materials in this course are based on work done by others (see reading below). In particular, we would like to thank Stuart Russell, Peter Norvig, Dan Klein, Pieter Abbeel and Christopher Manning for sharing their materials.                COMP3270 Artificial Intelligence Dr. Dirk Schnieders    File generated on 1 September 2023 at 12:06 PM                                                                                                                    Page 2 of 4  Teacher  Instructor Dr. Dirk SCHNIEDERS Senior Lecturer Department of Computer Science The University of Hong Kong Email: ds@dirk.hk Consultation Hours: Thu. 2:00pm – 4:00pm (please make an appointment to avoid waiting)  Teaching Assistant Mr.\n",
      "Course_Details-3.pdf: on 1 September 2023 at 12:06 PM                                                                                                                    Page 4 of 4  Course Materials  • Slides will be available on HKU Moodle • Use the slides and other materials for your own study and research only and do not redistribute for non-educational or any other purposes  Reading  Most materials are based on the book Artificial Intelligence: A Modern Approach. Other materials used will be referenced in the corresponding materials.   • Artificial Intelligence: A Modern Approach, 4th Edition, Stuart Russell and Peter Norvig o ISBN-13: 978-0134610993  Discussion Forum  Questions about the course should be posted in our Discussion Forum on Moodle. All marking related questions should be send to the corresponding TA.    Bad Weather Arrangements  Please check the regulations here: http://www.exam.hku.hk/a2_badweather.php  In case there is a cancellation and we are unable to obtain a new classroom, we will operate the cancelled class in flipped mode. A lecture video will be recorded and provided to students before the next session. There will be a Q&A session at the beginning of the next session.   \n",
      "Course_Details-2.pdf: submitted must be original • To protect the integrity of HKU we will check for plagiarism • If a student commits plagiarism, with evidence after investigation, no matter whether the student concerned admits or not, a penalty will be imposed o First Attempt: the student shall be warned in writing and receive zero mark for the whole assignment or the whole test; if the student does not agree, s/he can appeal to the Programme Director within a week o Subsequent Attempt: May impose any of the following penalties: a published reprimand, suspension of study for a period of time, fine, or expulsion from the University o Both the student who copies and the student who offers his/her work for copying shall be penalized  COMP3270 Artificial Intelligence Dr. Dirk Schnieders    File generated on 1 September 2023 at 12:06 PM                                                                                                                    Page 4 of 4  Course Materials  • Slides will be available on HKU Moodle • Use the slides and other materials for your own study and research only and do not redistribute for non-educational or any other purposes  Reading  Most materials are based on the book \n"
     ]
    }
   ],
   "source": [
    "query = \"Who is the instructor of the course\" #your query\n",
    "query_vector = compute_embedding(query)\n",
    "\n",
    "r = search_client.search(query, \n",
    "                        top=3, \n",
    "                        vector=query_vector, \n",
    "                        top_k=50, \n",
    "                        vector_fields=\"embedding\")\n",
    "\n",
    "results = [doc[\"sourcepage\"] + \": \" + nonewlines(doc[\"content\"]) for doc in r]\n",
    "\n",
    "for result in results:\n",
    "    print(result)"
   ]
  },
  {
   "cell_type": "markdown",
   "metadata": {},
   "source": [
    "### Query the GPT model with query + information"
   ]
  },
  {
   "cell_type": "code",
   "execution_count": 14,
   "metadata": {},
   "outputs": [
    {
     "name": "stdout",
     "output_type": "stream",
     "text": [
      "The instructor of the course is Dr. Dirk Schnieders. [Course_Details-0.pdf]\n"
     ]
    }
   ],
   "source": [
    "systemMessage = \"\"\"AI Assistant that helps user to answer questions from sources provided. Be brief in your answers.\n",
    "                    Answer ONLY with the facts listed in the list of sources below. \n",
    "                    If there isn't enough information below, say you don't know. Do not generate answers that don't use the sources below. \n",
    "                    Each source has a name followed by colon and the actual information, always include the source name for each fact you use in the response. \n",
    "                    Use square brackets to reference the source, e.g. [info1.txt]. Don't combine sources, list each source separately, e.g. [info1.txt][info2.pdf].\n",
    "                \"\"\"\n",
    "\n",
    "messages = [\n",
    "    {'role' : 'system', 'content' : systemMessage},\n",
    "    {'role' : 'user', 'content' : query + \"\\n\\n Source:\" + \"\\n\".join(results)}\n",
    "]\n",
    "\n",
    "chat_completion = openai.ChatCompletion.create(\n",
    "    deployment_id=\"chat\",\n",
    "    model=\"gpt-35-turbo\",\n",
    "    messages=messages, \n",
    "    temperature=0.7, \n",
    "    max_tokens=1024, \n",
    "    n=1)\n",
    "\n",
    "chat_content = chat_completion.choices[0].message.content\n",
    "print(chat_content)"
   ]
  }
 ],
 "metadata": {
  "kernelspec": {
   "display_name": "base",
   "language": "python",
   "name": "python3"
  },
  "language_info": {
   "codemirror_mode": {
    "name": "ipython",
    "version": 3
   },
   "file_extension": ".py",
   "mimetype": "text/x-python",
   "name": "python",
   "nbconvert_exporter": "python",
   "pygments_lexer": "ipython3",
   "version": "3.9.17"
  },
  "orig_nbformat": 4
 },
 "nbformat": 4,
 "nbformat_minor": 2
}
